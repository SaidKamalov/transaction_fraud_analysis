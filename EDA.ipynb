{
 "cells": [
  {
   "cell_type": "markdown",
   "id": "458382f0",
   "metadata": {},
   "source": [
    "## Imports and Constants"
   ]
  },
  {
   "cell_type": "code",
   "execution_count": 102,
   "id": "ce063bb2",
   "metadata": {},
   "outputs": [],
   "source": [
    "import pandas as pd\n",
    "import json\n",
    "import ipaddress\n",
    "import plotly.express as px\n",
    "import matplotlib.pyplot as plt\n",
    "import matplotlib.ticker as mtick\n",
    "from matplotlib.lines import Line2D\n",
    "import seaborn as sns"
   ]
  },
  {
   "cell_type": "code",
   "execution_count": 2,
   "id": "96bbec7f",
   "metadata": {},
   "outputs": [],
   "source": [
    "TRANSACTION_FRAUD_DATA_PATH = \"./transaction_fraud_data.parquet\"\n",
    "HISTORICAL_CURRENCY_EXCHANGE_PATH = \"./historical_currency_exchange.parquet\""
   ]
  },
  {
   "cell_type": "markdown",
   "id": "c893c0dc",
   "metadata": {},
   "source": [
    "## Download data"
   ]
  },
  {
   "cell_type": "code",
   "execution_count": 3,
   "id": "6bbe5af0",
   "metadata": {},
   "outputs": [
    {
     "data": {
      "text/html": [
       "<div>\n",
       "<style scoped>\n",
       "    .dataframe tbody tr th:only-of-type {\n",
       "        vertical-align: middle;\n",
       "    }\n",
       "\n",
       "    .dataframe tbody tr th {\n",
       "        vertical-align: top;\n",
       "    }\n",
       "\n",
       "    .dataframe thead th {\n",
       "        text-align: right;\n",
       "    }\n",
       "</style>\n",
       "<table border=\"1\" class=\"dataframe\">\n",
       "  <thead>\n",
       "    <tr style=\"text-align: right;\">\n",
       "      <th></th>\n",
       "      <th>transaction_id</th>\n",
       "      <th>customer_id</th>\n",
       "      <th>card_number</th>\n",
       "      <th>timestamp</th>\n",
       "      <th>vendor_category</th>\n",
       "      <th>vendor_type</th>\n",
       "      <th>vendor</th>\n",
       "      <th>amount</th>\n",
       "      <th>currency</th>\n",
       "      <th>country</th>\n",
       "      <th>...</th>\n",
       "      <th>is_card_present</th>\n",
       "      <th>device</th>\n",
       "      <th>channel</th>\n",
       "      <th>device_fingerprint</th>\n",
       "      <th>ip_address</th>\n",
       "      <th>is_outside_home_country</th>\n",
       "      <th>is_high_risk_vendor</th>\n",
       "      <th>is_weekend</th>\n",
       "      <th>last_hour_activity</th>\n",
       "      <th>is_fraud</th>\n",
       "    </tr>\n",
       "  </thead>\n",
       "  <tbody>\n",
       "    <tr>\n",
       "      <th>0</th>\n",
       "      <td>TX_a0ad2a2a</td>\n",
       "      <td>CUST_72886</td>\n",
       "      <td>6646734767813109</td>\n",
       "      <td>2024-09-30 00:00:01.034820</td>\n",
       "      <td>Restaurant</td>\n",
       "      <td>fast_food</td>\n",
       "      <td>Taco Bell</td>\n",
       "      <td>294.87</td>\n",
       "      <td>GBP</td>\n",
       "      <td>UK</td>\n",
       "      <td>...</td>\n",
       "      <td>False</td>\n",
       "      <td>iOS App</td>\n",
       "      <td>mobile</td>\n",
       "      <td>e8e6160445c935fd0001501e4cbac8bc</td>\n",
       "      <td>197.153.60.199</td>\n",
       "      <td>False</td>\n",
       "      <td>False</td>\n",
       "      <td>False</td>\n",
       "      <td>{'num_transactions': 1197, 'total_amount': 334...</td>\n",
       "      <td>False</td>\n",
       "    </tr>\n",
       "    <tr>\n",
       "      <th>1</th>\n",
       "      <td>TX_3599c101</td>\n",
       "      <td>CUST_70474</td>\n",
       "      <td>376800864692727</td>\n",
       "      <td>2024-09-30 00:00:01.764464</td>\n",
       "      <td>Entertainment</td>\n",
       "      <td>gaming</td>\n",
       "      <td>Steam</td>\n",
       "      <td>3368.97</td>\n",
       "      <td>BRL</td>\n",
       "      <td>Brazil</td>\n",
       "      <td>...</td>\n",
       "      <td>False</td>\n",
       "      <td>Edge</td>\n",
       "      <td>web</td>\n",
       "      <td>a73043a57091e775af37f252b3a32af9</td>\n",
       "      <td>208.123.221.203</td>\n",
       "      <td>True</td>\n",
       "      <td>True</td>\n",
       "      <td>False</td>\n",
       "      <td>{'num_transactions': 509, 'total_amount': 2011...</td>\n",
       "      <td>True</td>\n",
       "    </tr>\n",
       "    <tr>\n",
       "      <th>2</th>\n",
       "      <td>TX_a9461c6d</td>\n",
       "      <td>CUST_10715</td>\n",
       "      <td>5251909460951913</td>\n",
       "      <td>2024-09-30 00:00:02.273762</td>\n",
       "      <td>Grocery</td>\n",
       "      <td>physical</td>\n",
       "      <td>Whole Foods</td>\n",
       "      <td>102582.38</td>\n",
       "      <td>JPY</td>\n",
       "      <td>Japan</td>\n",
       "      <td>...</td>\n",
       "      <td>False</td>\n",
       "      <td>Firefox</td>\n",
       "      <td>web</td>\n",
       "      <td>218864e94ceaa41577d216b149722261</td>\n",
       "      <td>10.194.159.204</td>\n",
       "      <td>False</td>\n",
       "      <td>False</td>\n",
       "      <td>False</td>\n",
       "      <td>{'num_transactions': 332, 'total_amount': 3916...</td>\n",
       "      <td>False</td>\n",
       "    </tr>\n",
       "    <tr>\n",
       "      <th>3</th>\n",
       "      <td>TX_7be21fc4</td>\n",
       "      <td>CUST_16193</td>\n",
       "      <td>376079286931183</td>\n",
       "      <td>2024-09-30 00:00:02.297466</td>\n",
       "      <td>Gas</td>\n",
       "      <td>major</td>\n",
       "      <td>Exxon</td>\n",
       "      <td>630.60</td>\n",
       "      <td>AUD</td>\n",
       "      <td>Australia</td>\n",
       "      <td>...</td>\n",
       "      <td>False</td>\n",
       "      <td>iOS App</td>\n",
       "      <td>mobile</td>\n",
       "      <td>70423fa3a1e74d01203cf93b51b9631d</td>\n",
       "      <td>17.230.177.225</td>\n",
       "      <td>False</td>\n",
       "      <td>False</td>\n",
       "      <td>False</td>\n",
       "      <td>{'num_transactions': 764, 'total_amount': 2201...</td>\n",
       "      <td>False</td>\n",
       "    </tr>\n",
       "    <tr>\n",
       "      <th>4</th>\n",
       "      <td>TX_150f490b</td>\n",
       "      <td>CUST_87572</td>\n",
       "      <td>6172948052178810</td>\n",
       "      <td>2024-09-30 00:00:02.544063</td>\n",
       "      <td>Healthcare</td>\n",
       "      <td>medical</td>\n",
       "      <td>Medical Center</td>\n",
       "      <td>724949.27</td>\n",
       "      <td>NGN</td>\n",
       "      <td>Nigeria</td>\n",
       "      <td>...</td>\n",
       "      <td>False</td>\n",
       "      <td>Chrome</td>\n",
       "      <td>web</td>\n",
       "      <td>9880776c7b6038f2af86bd4e18a1b1a4</td>\n",
       "      <td>136.241.219.151</td>\n",
       "      <td>True</td>\n",
       "      <td>False</td>\n",
       "      <td>False</td>\n",
       "      <td>{'num_transactions': 218, 'total_amount': 4827...</td>\n",
       "      <td>True</td>\n",
       "    </tr>\n",
       "  </tbody>\n",
       "</table>\n",
       "<p>5 rows × 23 columns</p>\n",
       "</div>"
      ],
      "text/plain": [
       "  transaction_id customer_id       card_number                  timestamp  \\\n",
       "0    TX_a0ad2a2a  CUST_72886  6646734767813109 2024-09-30 00:00:01.034820   \n",
       "1    TX_3599c101  CUST_70474   376800864692727 2024-09-30 00:00:01.764464   \n",
       "2    TX_a9461c6d  CUST_10715  5251909460951913 2024-09-30 00:00:02.273762   \n",
       "3    TX_7be21fc4  CUST_16193   376079286931183 2024-09-30 00:00:02.297466   \n",
       "4    TX_150f490b  CUST_87572  6172948052178810 2024-09-30 00:00:02.544063   \n",
       "\n",
       "  vendor_category vendor_type          vendor     amount currency    country  \\\n",
       "0      Restaurant   fast_food       Taco Bell     294.87      GBP         UK   \n",
       "1   Entertainment      gaming           Steam    3368.97      BRL     Brazil   \n",
       "2         Grocery    physical     Whole Foods  102582.38      JPY      Japan   \n",
       "3             Gas       major           Exxon     630.60      AUD  Australia   \n",
       "4      Healthcare     medical  Medical Center  724949.27      NGN    Nigeria   \n",
       "\n",
       "   ... is_card_present   device channel                device_fingerprint  \\\n",
       "0  ...           False  iOS App  mobile  e8e6160445c935fd0001501e4cbac8bc   \n",
       "1  ...           False     Edge     web  a73043a57091e775af37f252b3a32af9   \n",
       "2  ...           False  Firefox     web  218864e94ceaa41577d216b149722261   \n",
       "3  ...           False  iOS App  mobile  70423fa3a1e74d01203cf93b51b9631d   \n",
       "4  ...           False   Chrome     web  9880776c7b6038f2af86bd4e18a1b1a4   \n",
       "\n",
       "        ip_address is_outside_home_country is_high_risk_vendor is_weekend  \\\n",
       "0   197.153.60.199                   False               False      False   \n",
       "1  208.123.221.203                    True                True      False   \n",
       "2   10.194.159.204                   False               False      False   \n",
       "3   17.230.177.225                   False               False      False   \n",
       "4  136.241.219.151                    True               False      False   \n",
       "\n",
       "                                  last_hour_activity  is_fraud  \n",
       "0  {'num_transactions': 1197, 'total_amount': 334...     False  \n",
       "1  {'num_transactions': 509, 'total_amount': 2011...      True  \n",
       "2  {'num_transactions': 332, 'total_amount': 3916...     False  \n",
       "3  {'num_transactions': 764, 'total_amount': 2201...     False  \n",
       "4  {'num_transactions': 218, 'total_amount': 4827...      True  \n",
       "\n",
       "[5 rows x 23 columns]"
      ]
     },
     "execution_count": 3,
     "metadata": {},
     "output_type": "execute_result"
    }
   ],
   "source": [
    "transaction_fraud_data = pd.read_parquet(TRANSACTION_FRAUD_DATA_PATH)\n",
    "transaction_fraud_data.head(5)"
   ]
  },
  {
   "cell_type": "code",
   "execution_count": 4,
   "id": "ef6ed458",
   "metadata": {},
   "outputs": [
    {
     "data": {
      "text/html": [
       "<div>\n",
       "<style scoped>\n",
       "    .dataframe tbody tr th:only-of-type {\n",
       "        vertical-align: middle;\n",
       "    }\n",
       "\n",
       "    .dataframe tbody tr th {\n",
       "        vertical-align: top;\n",
       "    }\n",
       "\n",
       "    .dataframe thead th {\n",
       "        text-align: right;\n",
       "    }\n",
       "</style>\n",
       "<table border=\"1\" class=\"dataframe\">\n",
       "  <thead>\n",
       "    <tr style=\"text-align: right;\">\n",
       "      <th></th>\n",
       "      <th>date</th>\n",
       "      <th>AUD</th>\n",
       "      <th>BRL</th>\n",
       "      <th>CAD</th>\n",
       "      <th>EUR</th>\n",
       "      <th>GBP</th>\n",
       "      <th>JPY</th>\n",
       "      <th>MXN</th>\n",
       "      <th>NGN</th>\n",
       "      <th>RUB</th>\n",
       "      <th>SGD</th>\n",
       "      <th>USD</th>\n",
       "    </tr>\n",
       "  </thead>\n",
       "  <tbody>\n",
       "    <tr>\n",
       "      <th>0</th>\n",
       "      <td>2024-09-30</td>\n",
       "      <td>1.443654</td>\n",
       "      <td>5.434649</td>\n",
       "      <td>1.351196</td>\n",
       "      <td>0.895591</td>\n",
       "      <td>0.747153</td>\n",
       "      <td>142.573268</td>\n",
       "      <td>19.694724</td>\n",
       "      <td>1668.736400</td>\n",
       "      <td>94.133735</td>\n",
       "      <td>1.280156</td>\n",
       "      <td>1</td>\n",
       "    </tr>\n",
       "    <tr>\n",
       "      <th>1</th>\n",
       "      <td>2024-10-01</td>\n",
       "      <td>1.442917</td>\n",
       "      <td>5.444170</td>\n",
       "      <td>1.352168</td>\n",
       "      <td>0.897557</td>\n",
       "      <td>0.746956</td>\n",
       "      <td>143.831429</td>\n",
       "      <td>19.667561</td>\n",
       "      <td>1670.694524</td>\n",
       "      <td>92.898519</td>\n",
       "      <td>1.284352</td>\n",
       "      <td>1</td>\n",
       "    </tr>\n",
       "    <tr>\n",
       "      <th>2</th>\n",
       "      <td>2024-10-02</td>\n",
       "      <td>1.449505</td>\n",
       "      <td>5.425444</td>\n",
       "      <td>1.348063</td>\n",
       "      <td>0.903056</td>\n",
       "      <td>0.752241</td>\n",
       "      <td>143.806861</td>\n",
       "      <td>19.606748</td>\n",
       "      <td>1669.653006</td>\n",
       "      <td>94.583198</td>\n",
       "      <td>1.286983</td>\n",
       "      <td>1</td>\n",
       "    </tr>\n",
       "    <tr>\n",
       "      <th>3</th>\n",
       "      <td>2024-10-03</td>\n",
       "      <td>1.456279</td>\n",
       "      <td>5.442044</td>\n",
       "      <td>1.351451</td>\n",
       "      <td>0.906018</td>\n",
       "      <td>0.754584</td>\n",
       "      <td>146.916773</td>\n",
       "      <td>19.457701</td>\n",
       "      <td>1670.097873</td>\n",
       "      <td>95.655442</td>\n",
       "      <td>1.294391</td>\n",
       "      <td>1</td>\n",
       "    </tr>\n",
       "    <tr>\n",
       "      <th>4</th>\n",
       "      <td>2024-10-04</td>\n",
       "      <td>1.460930</td>\n",
       "      <td>5.477788</td>\n",
       "      <td>1.355260</td>\n",
       "      <td>0.906452</td>\n",
       "      <td>0.761891</td>\n",
       "      <td>146.592323</td>\n",
       "      <td>19.363467</td>\n",
       "      <td>1649.763738</td>\n",
       "      <td>94.755337</td>\n",
       "      <td>1.296800</td>\n",
       "      <td>1</td>\n",
       "    </tr>\n",
       "  </tbody>\n",
       "</table>\n",
       "</div>"
      ],
      "text/plain": [
       "         date       AUD       BRL       CAD       EUR       GBP         JPY  \\\n",
       "0  2024-09-30  1.443654  5.434649  1.351196  0.895591  0.747153  142.573268   \n",
       "1  2024-10-01  1.442917  5.444170  1.352168  0.897557  0.746956  143.831429   \n",
       "2  2024-10-02  1.449505  5.425444  1.348063  0.903056  0.752241  143.806861   \n",
       "3  2024-10-03  1.456279  5.442044  1.351451  0.906018  0.754584  146.916773   \n",
       "4  2024-10-04  1.460930  5.477788  1.355260  0.906452  0.761891  146.592323   \n",
       "\n",
       "         MXN          NGN        RUB       SGD  USD  \n",
       "0  19.694724  1668.736400  94.133735  1.280156    1  \n",
       "1  19.667561  1670.694524  92.898519  1.284352    1  \n",
       "2  19.606748  1669.653006  94.583198  1.286983    1  \n",
       "3  19.457701  1670.097873  95.655442  1.294391    1  \n",
       "4  19.363467  1649.763738  94.755337  1.296800    1  "
      ]
     },
     "execution_count": 4,
     "metadata": {},
     "output_type": "execute_result"
    }
   ],
   "source": [
    "historical_currency_exchange = pd.read_parquet(HISTORICAL_CURRENCY_EXCHANGE_PATH)\n",
    "historical_currency_exchange.head(5)"
   ]
  },
  {
   "cell_type": "markdown",
   "id": "6ae28fa0",
   "metadata": {},
   "source": [
    "## Data Quality Assessment and Preprocessing"
   ]
  },
  {
   "cell_type": "code",
   "execution_count": 5,
   "id": "0602c012",
   "metadata": {},
   "outputs": [],
   "source": [
    "def null_stats(df: pd.DataFrame) -> pd.DataFrame:\n",
    "    \"\"\"\n",
    "    Return a DataFrame summarizing null vs non-null counts and percentages per column.\n",
    "    \n",
    "    Parameters\n",
    "    ----------\n",
    "    df : pd.DataFrame\n",
    "        Input DataFrame to analyze.\n",
    "    \n",
    "    Returns\n",
    "    -------\n",
    "    pd.DataFrame\n",
    "        Summary table indexed by column name with columns:\n",
    "         - null_count\n",
    "         - non_null_count\n",
    "         - null_pct\n",
    "         - non_null_pct\n",
    "    \"\"\"\n",
    "    total = len(df)\n",
    "    # Count nulls per column\n",
    "    null_count = df.isnull().sum()\n",
    "    # Compute non-nulls\n",
    "    non_null_count = total - null_count\n",
    "    # Build summary\n",
    "    stats = pd.DataFrame({\n",
    "        'null_count'     : null_count,\n",
    "        'non_null_count' : non_null_count,\n",
    "        'null_pct'       : (null_count / total * 100).round(2),\n",
    "        'non_null_pct'   : (non_null_count / total * 100).round(2)\n",
    "    })\n",
    "    return stats"
   ]
  },
  {
   "cell_type": "code",
   "execution_count": 6,
   "id": "b8a1b8dd",
   "metadata": {},
   "outputs": [
    {
     "name": "stdout",
     "output_type": "stream",
     "text": [
      "<class 'pandas.core.frame.DataFrame'>\n",
      "RangeIndex: 7483766 entries, 0 to 7483765\n",
      "Data columns (total 23 columns):\n",
      " #   Column                   Dtype         \n",
      "---  ------                   -----         \n",
      " 0   transaction_id           object        \n",
      " 1   customer_id              object        \n",
      " 2   card_number              int64         \n",
      " 3   timestamp                datetime64[us]\n",
      " 4   vendor_category          object        \n",
      " 5   vendor_type              object        \n",
      " 6   vendor                   object        \n",
      " 7   amount                   float64       \n",
      " 8   currency                 object        \n",
      " 9   country                  object        \n",
      " 10  city                     object        \n",
      " 11  city_size                object        \n",
      " 12  card_type                object        \n",
      " 13  is_card_present          bool          \n",
      " 14  device                   object        \n",
      " 15  channel                  object        \n",
      " 16  device_fingerprint       object        \n",
      " 17  ip_address               object        \n",
      " 18  is_outside_home_country  bool          \n",
      " 19  is_high_risk_vendor      bool          \n",
      " 20  is_weekend               bool          \n",
      " 21  last_hour_activity       object        \n",
      " 22  is_fraud                 bool          \n",
      "dtypes: bool(5), datetime64[us](1), float64(1), int64(1), object(15)\n",
      "memory usage: 1.0+ GB\n",
      "None\n"
     ]
    }
   ],
   "source": [
    "print(transaction_fraud_data.info())"
   ]
  },
  {
   "cell_type": "code",
   "execution_count": 7,
   "id": "06616194",
   "metadata": {},
   "outputs": [],
   "source": [
    "transaction_fraud_data_processed = transaction_fraud_data.copy()"
   ]
  },
  {
   "cell_type": "code",
   "execution_count": 8,
   "id": "b7c35738",
   "metadata": {},
   "outputs": [
    {
     "data": {
      "text/html": [
       "<div>\n",
       "<style scoped>\n",
       "    .dataframe tbody tr th:only-of-type {\n",
       "        vertical-align: middle;\n",
       "    }\n",
       "\n",
       "    .dataframe tbody tr th {\n",
       "        vertical-align: top;\n",
       "    }\n",
       "\n",
       "    .dataframe thead th {\n",
       "        text-align: right;\n",
       "    }\n",
       "</style>\n",
       "<table border=\"1\" class=\"dataframe\">\n",
       "  <thead>\n",
       "    <tr style=\"text-align: right;\">\n",
       "      <th></th>\n",
       "      <th>null_count</th>\n",
       "      <th>non_null_count</th>\n",
       "      <th>null_pct</th>\n",
       "      <th>non_null_pct</th>\n",
       "    </tr>\n",
       "  </thead>\n",
       "  <tbody>\n",
       "    <tr>\n",
       "      <th>transaction_id</th>\n",
       "      <td>0</td>\n",
       "      <td>7483766</td>\n",
       "      <td>0.0</td>\n",
       "      <td>100.0</td>\n",
       "    </tr>\n",
       "    <tr>\n",
       "      <th>customer_id</th>\n",
       "      <td>0</td>\n",
       "      <td>7483766</td>\n",
       "      <td>0.0</td>\n",
       "      <td>100.0</td>\n",
       "    </tr>\n",
       "    <tr>\n",
       "      <th>card_number</th>\n",
       "      <td>0</td>\n",
       "      <td>7483766</td>\n",
       "      <td>0.0</td>\n",
       "      <td>100.0</td>\n",
       "    </tr>\n",
       "    <tr>\n",
       "      <th>timestamp</th>\n",
       "      <td>0</td>\n",
       "      <td>7483766</td>\n",
       "      <td>0.0</td>\n",
       "      <td>100.0</td>\n",
       "    </tr>\n",
       "    <tr>\n",
       "      <th>vendor_category</th>\n",
       "      <td>0</td>\n",
       "      <td>7483766</td>\n",
       "      <td>0.0</td>\n",
       "      <td>100.0</td>\n",
       "    </tr>\n",
       "    <tr>\n",
       "      <th>vendor_type</th>\n",
       "      <td>0</td>\n",
       "      <td>7483766</td>\n",
       "      <td>0.0</td>\n",
       "      <td>100.0</td>\n",
       "    </tr>\n",
       "    <tr>\n",
       "      <th>vendor</th>\n",
       "      <td>0</td>\n",
       "      <td>7483766</td>\n",
       "      <td>0.0</td>\n",
       "      <td>100.0</td>\n",
       "    </tr>\n",
       "    <tr>\n",
       "      <th>amount</th>\n",
       "      <td>0</td>\n",
       "      <td>7483766</td>\n",
       "      <td>0.0</td>\n",
       "      <td>100.0</td>\n",
       "    </tr>\n",
       "    <tr>\n",
       "      <th>currency</th>\n",
       "      <td>0</td>\n",
       "      <td>7483766</td>\n",
       "      <td>0.0</td>\n",
       "      <td>100.0</td>\n",
       "    </tr>\n",
       "    <tr>\n",
       "      <th>country</th>\n",
       "      <td>0</td>\n",
       "      <td>7483766</td>\n",
       "      <td>0.0</td>\n",
       "      <td>100.0</td>\n",
       "    </tr>\n",
       "    <tr>\n",
       "      <th>city</th>\n",
       "      <td>0</td>\n",
       "      <td>7483766</td>\n",
       "      <td>0.0</td>\n",
       "      <td>100.0</td>\n",
       "    </tr>\n",
       "    <tr>\n",
       "      <th>city_size</th>\n",
       "      <td>0</td>\n",
       "      <td>7483766</td>\n",
       "      <td>0.0</td>\n",
       "      <td>100.0</td>\n",
       "    </tr>\n",
       "    <tr>\n",
       "      <th>card_type</th>\n",
       "      <td>0</td>\n",
       "      <td>7483766</td>\n",
       "      <td>0.0</td>\n",
       "      <td>100.0</td>\n",
       "    </tr>\n",
       "    <tr>\n",
       "      <th>is_card_present</th>\n",
       "      <td>0</td>\n",
       "      <td>7483766</td>\n",
       "      <td>0.0</td>\n",
       "      <td>100.0</td>\n",
       "    </tr>\n",
       "    <tr>\n",
       "      <th>device</th>\n",
       "      <td>0</td>\n",
       "      <td>7483766</td>\n",
       "      <td>0.0</td>\n",
       "      <td>100.0</td>\n",
       "    </tr>\n",
       "    <tr>\n",
       "      <th>channel</th>\n",
       "      <td>0</td>\n",
       "      <td>7483766</td>\n",
       "      <td>0.0</td>\n",
       "      <td>100.0</td>\n",
       "    </tr>\n",
       "    <tr>\n",
       "      <th>device_fingerprint</th>\n",
       "      <td>0</td>\n",
       "      <td>7483766</td>\n",
       "      <td>0.0</td>\n",
       "      <td>100.0</td>\n",
       "    </tr>\n",
       "    <tr>\n",
       "      <th>ip_address</th>\n",
       "      <td>0</td>\n",
       "      <td>7483766</td>\n",
       "      <td>0.0</td>\n",
       "      <td>100.0</td>\n",
       "    </tr>\n",
       "    <tr>\n",
       "      <th>is_outside_home_country</th>\n",
       "      <td>0</td>\n",
       "      <td>7483766</td>\n",
       "      <td>0.0</td>\n",
       "      <td>100.0</td>\n",
       "    </tr>\n",
       "    <tr>\n",
       "      <th>is_high_risk_vendor</th>\n",
       "      <td>0</td>\n",
       "      <td>7483766</td>\n",
       "      <td>0.0</td>\n",
       "      <td>100.0</td>\n",
       "    </tr>\n",
       "    <tr>\n",
       "      <th>is_weekend</th>\n",
       "      <td>0</td>\n",
       "      <td>7483766</td>\n",
       "      <td>0.0</td>\n",
       "      <td>100.0</td>\n",
       "    </tr>\n",
       "    <tr>\n",
       "      <th>last_hour_activity</th>\n",
       "      <td>0</td>\n",
       "      <td>7483766</td>\n",
       "      <td>0.0</td>\n",
       "      <td>100.0</td>\n",
       "    </tr>\n",
       "    <tr>\n",
       "      <th>is_fraud</th>\n",
       "      <td>0</td>\n",
       "      <td>7483766</td>\n",
       "      <td>0.0</td>\n",
       "      <td>100.0</td>\n",
       "    </tr>\n",
       "  </tbody>\n",
       "</table>\n",
       "</div>"
      ],
      "text/plain": [
       "                         null_count  non_null_count  null_pct  non_null_pct\n",
       "transaction_id                    0         7483766       0.0         100.0\n",
       "customer_id                       0         7483766       0.0         100.0\n",
       "card_number                       0         7483766       0.0         100.0\n",
       "timestamp                         0         7483766       0.0         100.0\n",
       "vendor_category                   0         7483766       0.0         100.0\n",
       "vendor_type                       0         7483766       0.0         100.0\n",
       "vendor                            0         7483766       0.0         100.0\n",
       "amount                            0         7483766       0.0         100.0\n",
       "currency                          0         7483766       0.0         100.0\n",
       "country                           0         7483766       0.0         100.0\n",
       "city                              0         7483766       0.0         100.0\n",
       "city_size                         0         7483766       0.0         100.0\n",
       "card_type                         0         7483766       0.0         100.0\n",
       "is_card_present                   0         7483766       0.0         100.0\n",
       "device                            0         7483766       0.0         100.0\n",
       "channel                           0         7483766       0.0         100.0\n",
       "device_fingerprint                0         7483766       0.0         100.0\n",
       "ip_address                        0         7483766       0.0         100.0\n",
       "is_outside_home_country           0         7483766       0.0         100.0\n",
       "is_high_risk_vendor               0         7483766       0.0         100.0\n",
       "is_weekend                        0         7483766       0.0         100.0\n",
       "last_hour_activity                0         7483766       0.0         100.0\n",
       "is_fraud                          0         7483766       0.0         100.0"
      ]
     },
     "execution_count": 8,
     "metadata": {},
     "output_type": "execute_result"
    }
   ],
   "source": [
    "\"\"\"\n",
    "Проверяем содержание null значений в колонках датасета с транзакциями\n",
    "\"\"\"\n",
    "null_stats(transaction_fraud_data_processed)"
   ]
  },
  {
   "cell_type": "markdown",
   "id": "2c0eb405",
   "metadata": {},
   "source": [
    "Датасет не имеет null значений в своих колонках.\n",
    "<br>Что на самом деле редкая ситуация для real-world данных"
   ]
  },
  {
   "cell_type": "code",
   "execution_count": null,
   "id": "aa15b1a9",
   "metadata": {},
   "outputs": [
    {
     "data": {
      "text/plain": [
       "np.int64(6460)"
      ]
     },
     "execution_count": 9,
     "metadata": {},
     "output_type": "execute_result"
    }
   ],
   "source": [
    "\"\"\"\n",
    "По описанию данных в README.md можно сделать вывод,\n",
    "что поле transaction_id является уникальным ключом в датасте transaction_fraud_data.\n",
    "\n",
    "Проверим, что у значений этой колонки нет дублей.\n",
    "\"\"\"\n",
    "\n",
    "dupe_txns = transaction_fraud_data_processed['transaction_id'].duplicated().sum()\n",
    "dupe_txns\n"
   ]
  },
  {
   "cell_type": "markdown",
   "id": "52d108b7",
   "metadata": {},
   "source": [
    "Исследуем строки с одинаковым ```transaction_id```.\n",
    "\n",
    "Ожидается, что строки с одинаковыми ```transaction_id``` будут совпадать и по оставшимся полям.\n",
    "<br> Тогда можно рассматривать их как дубли, и убрать из данных"
   ]
  },
  {
   "cell_type": "code",
   "execution_count": 10,
   "id": "edd98493",
   "metadata": {},
   "outputs": [],
   "source": [
    "def count_equal_unequal_rows(df: pd.DataFrame, group_col: str, columns_to_drop: list[str] = []):\n",
    "    \"\"\"\n",
    "    Return a DataFrame summarizing counts of equal (identical) and unequal rows \n",
    "    for each duplicated value in the specified group column.\n",
    "\n",
    "    Parameters\n",
    "    ----------\n",
    "    df : pd.DataFrame\n",
    "        Input DataFrame to analyze.\n",
    "    \n",
    "    group_col : str\n",
    "        Name of the column to group by. The function will consider values in this column\n",
    "        and identify duplicates, then compare the rest of the row contents within each group.\n",
    "\n",
    "    columns_to_drop: list[str]\n",
    "        Names of columns that should not be compared.\n",
    "\n",
    "    Returns\n",
    "    -------\n",
    "    pd.DataFrame\n",
    "        Summary table indexed by the duplicated values in `group_col`, with columns:\n",
    "         - equal : int\n",
    "             Number of repeated rows beyond the first occurrence (fully identical rows).\n",
    "         - unequal : int\n",
    "             Number of rows in the group that are not identical to any other row in that group.\n",
    "    \"\"\"\n",
    "    # Only rows with duplicated values in group_col\n",
    "    duplicated_df = df[df[group_col].duplicated(keep=False)]\n",
    "    duplicated_df = duplicated_df.drop(labels=columns_to_drop, axis=1)\n",
    "\n",
    "    # Apply inside each group\n",
    "    def count_group(g):\n",
    "        row_counts = g.value_counts()\n",
    "        equal = sum(row_counts[row_counts > 1] - 1)\n",
    "        unequal = len(g) - row_counts[row_counts > 1].sum()\n",
    "        return pd.Series({'equal': equal, 'unequal': unequal})\n",
    "\n",
    "    return duplicated_df.groupby(group_col).apply(count_group)"
   ]
  },
  {
   "cell_type": "code",
   "execution_count": 11,
   "id": "cdb91b47",
   "metadata": {},
   "outputs": [],
   "source": [
    "\"\"\"\n",
    "Так поле last_hour_activity_json сотавное и имеет тип dict внури нашего data frame,\n",
    "нам необходимо сделать его hashable копию, чтобы значения это колонки можно было сравнивать между собой.\n",
    "\n",
    "Для этого сериализуем эту колонку в аналогичную, которая будет хранить json строки.\n",
    "\"\"\"\n",
    "transaction_fraud_data_processed['last_hour_activity_json'] = transaction_fraud_data_processed['last_hour_activity'].apply(lambda x: json.dumps(x, sort_keys=True))"
   ]
  },
  {
   "cell_type": "code",
   "execution_count": 12,
   "id": "a8e7758e",
   "metadata": {},
   "outputs": [
    {
     "name": "stderr",
     "output_type": "stream",
     "text": [
      "/var/folders/p2/skh823fd5t5fcl9_fbmxvw24rb6_10/T/ipykernel_64255/614493501.py:38: FutureWarning: DataFrameGroupBy.apply operated on the grouping columns. This behavior is deprecated, and in a future version of pandas the grouping columns will be excluded from the operation. Either pass `include_groups=False` to exclude the groupings or explicitly select the grouping columns after groupby to silence this warning.\n",
      "  return duplicated_df.groupby(group_col).apply(count_group)\n"
     ]
    },
    {
     "data": {
      "text/html": [
       "<div>\n",
       "<style scoped>\n",
       "    .dataframe tbody tr th:only-of-type {\n",
       "        vertical-align: middle;\n",
       "    }\n",
       "\n",
       "    .dataframe tbody tr th {\n",
       "        vertical-align: top;\n",
       "    }\n",
       "\n",
       "    .dataframe thead th {\n",
       "        text-align: right;\n",
       "    }\n",
       "</style>\n",
       "<table border=\"1\" class=\"dataframe\">\n",
       "  <thead>\n",
       "    <tr style=\"text-align: right;\">\n",
       "      <th></th>\n",
       "      <th>equal</th>\n",
       "      <th>unequal</th>\n",
       "    </tr>\n",
       "    <tr>\n",
       "      <th>transaction_id</th>\n",
       "      <th></th>\n",
       "      <th></th>\n",
       "    </tr>\n",
       "  </thead>\n",
       "  <tbody>\n",
       "    <tr>\n",
       "      <th>TX_0003e9db</th>\n",
       "      <td>0</td>\n",
       "      <td>2</td>\n",
       "    </tr>\n",
       "    <tr>\n",
       "      <th>TX_0004e984</th>\n",
       "      <td>0</td>\n",
       "      <td>2</td>\n",
       "    </tr>\n",
       "    <tr>\n",
       "      <th>TX_0005b91b</th>\n",
       "      <td>0</td>\n",
       "      <td>2</td>\n",
       "    </tr>\n",
       "    <tr>\n",
       "      <th>TX_001a97b5</th>\n",
       "      <td>0</td>\n",
       "      <td>2</td>\n",
       "    </tr>\n",
       "    <tr>\n",
       "      <th>TX_0022820a</th>\n",
       "      <td>0</td>\n",
       "      <td>2</td>\n",
       "    </tr>\n",
       "    <tr>\n",
       "      <th>...</th>\n",
       "      <td>...</td>\n",
       "      <td>...</td>\n",
       "    </tr>\n",
       "    <tr>\n",
       "      <th>TX_ffc7fc2b</th>\n",
       "      <td>0</td>\n",
       "      <td>2</td>\n",
       "    </tr>\n",
       "    <tr>\n",
       "      <th>TX_ffcc6971</th>\n",
       "      <td>0</td>\n",
       "      <td>2</td>\n",
       "    </tr>\n",
       "    <tr>\n",
       "      <th>TX_ffdefa24</th>\n",
       "      <td>0</td>\n",
       "      <td>2</td>\n",
       "    </tr>\n",
       "    <tr>\n",
       "      <th>TX_ffe3209e</th>\n",
       "      <td>0</td>\n",
       "      <td>2</td>\n",
       "    </tr>\n",
       "    <tr>\n",
       "      <th>TX_ffecfcfc</th>\n",
       "      <td>0</td>\n",
       "      <td>2</td>\n",
       "    </tr>\n",
       "  </tbody>\n",
       "</table>\n",
       "<p>6453 rows × 2 columns</p>\n",
       "</div>"
      ],
      "text/plain": [
       "                equal  unequal\n",
       "transaction_id                \n",
       "TX_0003e9db         0        2\n",
       "TX_0004e984         0        2\n",
       "TX_0005b91b         0        2\n",
       "TX_001a97b5         0        2\n",
       "TX_0022820a         0        2\n",
       "...               ...      ...\n",
       "TX_ffc7fc2b         0        2\n",
       "TX_ffcc6971         0        2\n",
       "TX_ffdefa24         0        2\n",
       "TX_ffe3209e         0        2\n",
       "TX_ffecfcfc         0        2\n",
       "\n",
       "[6453 rows x 2 columns]"
      ]
     },
     "execution_count": 12,
     "metadata": {},
     "output_type": "execute_result"
    }
   ],
   "source": [
    "row_stat = count_equal_unequal_rows(transaction_fraud_data_processed, 'transaction_id', ['last_hour_activity'])\n",
    "row_stat"
   ]
  },
  {
   "cell_type": "code",
   "execution_count": 13,
   "id": "517d91c4",
   "metadata": {},
   "outputs": [
    {
     "name": "stdout",
     "output_type": "stream",
     "text": [
      "Кол-во различных transaction_id у которых нет разных строк: 0\n",
      "Кол-во различных transaction_id у которых нет одинаковых строк: 6453\n",
      "Набор значений для различных строк с одинаковым transaction_id:\n",
      "[np.int64(2), np.int64(3)]\n"
     ]
    }
   ],
   "source": [
    "print(f'Кол-во различных transaction_id у которых нет разных строк: {len(row_stat[row_stat['unequal'] == 0])}')\n",
    "print(f'Кол-во различных transaction_id у которых нет одинаковых строк: {len(row_stat[row_stat['equal'] == 0])}')\n",
    "print(f'Набор значений для различных строк с одинаковым transaction_id:\\n{list(row_stat['unequal'].unique())}')\n"
   ]
  },
  {
   "cell_type": "code",
   "execution_count": 14,
   "id": "8078b8c9",
   "metadata": {},
   "outputs": [
    {
     "data": {
      "text/html": [
       "<div>\n",
       "<style scoped>\n",
       "    .dataframe tbody tr th:only-of-type {\n",
       "        vertical-align: middle;\n",
       "    }\n",
       "\n",
       "    .dataframe tbody tr th {\n",
       "        vertical-align: top;\n",
       "    }\n",
       "\n",
       "    .dataframe thead th {\n",
       "        text-align: right;\n",
       "    }\n",
       "</style>\n",
       "<table border=\"1\" class=\"dataframe\">\n",
       "  <thead>\n",
       "    <tr style=\"text-align: right;\">\n",
       "      <th></th>\n",
       "      <th>transaction_id</th>\n",
       "      <th>customer_id</th>\n",
       "      <th>card_number</th>\n",
       "      <th>timestamp</th>\n",
       "      <th>vendor_category</th>\n",
       "      <th>vendor_type</th>\n",
       "      <th>vendor</th>\n",
       "      <th>amount</th>\n",
       "      <th>currency</th>\n",
       "      <th>country</th>\n",
       "      <th>...</th>\n",
       "      <th>device</th>\n",
       "      <th>channel</th>\n",
       "      <th>device_fingerprint</th>\n",
       "      <th>ip_address</th>\n",
       "      <th>is_outside_home_country</th>\n",
       "      <th>is_high_risk_vendor</th>\n",
       "      <th>is_weekend</th>\n",
       "      <th>last_hour_activity</th>\n",
       "      <th>is_fraud</th>\n",
       "      <th>last_hour_activity_json</th>\n",
       "    </tr>\n",
       "  </thead>\n",
       "  <tbody>\n",
       "    <tr>\n",
       "      <th>101374</th>\n",
       "      <td>TX_0003e9db</td>\n",
       "      <td>CUST_33598</td>\n",
       "      <td>5569939078731834</td>\n",
       "      <td>2024-09-30 11:21:11.618160</td>\n",
       "      <td>Retail</td>\n",
       "      <td>online</td>\n",
       "      <td>Etsy</td>\n",
       "      <td>1038.06</td>\n",
       "      <td>SGD</td>\n",
       "      <td>Singapore</td>\n",
       "      <td>...</td>\n",
       "      <td>Safari</td>\n",
       "      <td>web</td>\n",
       "      <td>4aa8dcbec2113fb024c9a68927bdd7fa</td>\n",
       "      <td>61.228.32.65</td>\n",
       "      <td>False</td>\n",
       "      <td>False</td>\n",
       "      <td>False</td>\n",
       "      <td>{'num_transactions': 206, 'total_amount': 4965...</td>\n",
       "      <td>False</td>\n",
       "      <td>{\"max_single_amount\": 833420.6414852374, \"num_...</td>\n",
       "    </tr>\n",
       "    <tr>\n",
       "      <th>1327891</th>\n",
       "      <td>TX_0003e9db</td>\n",
       "      <td>CUST_19259</td>\n",
       "      <td>375459469913771</td>\n",
       "      <td>2024-10-05 12:49:42.066906</td>\n",
       "      <td>Gas</td>\n",
       "      <td>major</td>\n",
       "      <td>Mobil</td>\n",
       "      <td>52909.46</td>\n",
       "      <td>JPY</td>\n",
       "      <td>Japan</td>\n",
       "      <td>...</td>\n",
       "      <td>Android App</td>\n",
       "      <td>mobile</td>\n",
       "      <td>f8f54159fd38e31b77e50c847fa7f3c5</td>\n",
       "      <td>245.196.10.182</td>\n",
       "      <td>False</td>\n",
       "      <td>False</td>\n",
       "      <td>True</td>\n",
       "      <td>{'num_transactions': 1490, 'total_amount': 905...</td>\n",
       "      <td>False</td>\n",
       "      <td>{\"max_single_amount\": 3835974.1291076676, \"num...</td>\n",
       "    </tr>\n",
       "  </tbody>\n",
       "</table>\n",
       "<p>2 rows × 24 columns</p>\n",
       "</div>"
      ],
      "text/plain": [
       "        transaction_id customer_id       card_number  \\\n",
       "101374     TX_0003e9db  CUST_33598  5569939078731834   \n",
       "1327891    TX_0003e9db  CUST_19259   375459469913771   \n",
       "\n",
       "                         timestamp vendor_category vendor_type vendor  \\\n",
       "101374  2024-09-30 11:21:11.618160          Retail      online   Etsy   \n",
       "1327891 2024-10-05 12:49:42.066906             Gas       major  Mobil   \n",
       "\n",
       "           amount currency    country  ...       device channel  \\\n",
       "101374    1038.06      SGD  Singapore  ...       Safari     web   \n",
       "1327891  52909.46      JPY      Japan  ...  Android App  mobile   \n",
       "\n",
       "                       device_fingerprint      ip_address  \\\n",
       "101374   4aa8dcbec2113fb024c9a68927bdd7fa    61.228.32.65   \n",
       "1327891  f8f54159fd38e31b77e50c847fa7f3c5  245.196.10.182   \n",
       "\n",
       "        is_outside_home_country is_high_risk_vendor is_weekend  \\\n",
       "101374                    False               False      False   \n",
       "1327891                   False               False       True   \n",
       "\n",
       "                                        last_hour_activity  is_fraud  \\\n",
       "101374   {'num_transactions': 206, 'total_amount': 4965...     False   \n",
       "1327891  {'num_transactions': 1490, 'total_amount': 905...     False   \n",
       "\n",
       "                                   last_hour_activity_json  \n",
       "101374   {\"max_single_amount\": 833420.6414852374, \"num_...  \n",
       "1327891  {\"max_single_amount\": 3835974.1291076676, \"num...  \n",
       "\n",
       "[2 rows x 24 columns]"
      ]
     },
     "execution_count": 14,
     "metadata": {},
     "output_type": "execute_result"
    }
   ],
   "source": [
    "# Рассмотри пример пары строк с одинаковым transaction_id\n",
    "transaction_fraud_data_processed[transaction_fraud_data_processed['transaction_id'] == 'TX_0003e9db']"
   ]
  },
  {
   "cell_type": "markdown",
   "id": "d0434bef",
   "metadata": {},
   "source": [
    "Мы видим, что у всех строк с повторяющимися ```transaction_id``` отличаются оставшиеся колонки.\n",
    "<br>Это значит, что мы не можем брать поле ```transaction_id``` за уникальный идентификатор.\n",
    "\n",
    "Добавим новую колонку, которая сможем служить уникальным идентификатором.\n",
    "<br> Попробуем объеденить ```transaction_id``` и ```device_fingerprint```"
   ]
  },
  {
   "cell_type": "code",
   "execution_count": null,
   "id": "4dff721d",
   "metadata": {},
   "outputs": [
    {
     "data": {
      "text/html": [
       "<div>\n",
       "<style scoped>\n",
       "    .dataframe tbody tr th:only-of-type {\n",
       "        vertical-align: middle;\n",
       "    }\n",
       "\n",
       "    .dataframe tbody tr th {\n",
       "        vertical-align: top;\n",
       "    }\n",
       "\n",
       "    .dataframe thead th {\n",
       "        text-align: right;\n",
       "    }\n",
       "</style>\n",
       "<table border=\"1\" class=\"dataframe\">\n",
       "  <thead>\n",
       "    <tr style=\"text-align: right;\">\n",
       "      <th></th>\n",
       "      <th>custom_transaction_id</th>\n",
       "      <th>transaction_id</th>\n",
       "      <th>customer_id</th>\n",
       "      <th>card_number</th>\n",
       "      <th>timestamp</th>\n",
       "      <th>vendor_category</th>\n",
       "      <th>vendor_type</th>\n",
       "      <th>vendor</th>\n",
       "      <th>amount</th>\n",
       "      <th>currency</th>\n",
       "      <th>...</th>\n",
       "      <th>device</th>\n",
       "      <th>channel</th>\n",
       "      <th>device_fingerprint</th>\n",
       "      <th>ip_address</th>\n",
       "      <th>is_outside_home_country</th>\n",
       "      <th>is_high_risk_vendor</th>\n",
       "      <th>is_weekend</th>\n",
       "      <th>last_hour_activity</th>\n",
       "      <th>is_fraud</th>\n",
       "      <th>last_hour_activity_json</th>\n",
       "    </tr>\n",
       "  </thead>\n",
       "  <tbody>\n",
       "    <tr>\n",
       "      <th>0</th>\n",
       "      <td>TX_a0ad2a2a_e8e6160445c935fd0001501e4cbac8bc</td>\n",
       "      <td>TX_a0ad2a2a</td>\n",
       "      <td>CUST_72886</td>\n",
       "      <td>6646734767813109</td>\n",
       "      <td>2024-09-30 00:00:01.034820</td>\n",
       "      <td>Restaurant</td>\n",
       "      <td>fast_food</td>\n",
       "      <td>Taco Bell</td>\n",
       "      <td>294.87</td>\n",
       "      <td>GBP</td>\n",
       "      <td>...</td>\n",
       "      <td>iOS App</td>\n",
       "      <td>mobile</td>\n",
       "      <td>e8e6160445c935fd0001501e4cbac8bc</td>\n",
       "      <td>197.153.60.199</td>\n",
       "      <td>False</td>\n",
       "      <td>False</td>\n",
       "      <td>False</td>\n",
       "      <td>{'num_transactions': 1197, 'total_amount': 334...</td>\n",
       "      <td>False</td>\n",
       "      <td>{\"max_single_amount\": 1925480.6324148502, \"num...</td>\n",
       "    </tr>\n",
       "    <tr>\n",
       "      <th>1</th>\n",
       "      <td>TX_3599c101_a73043a57091e775af37f252b3a32af9</td>\n",
       "      <td>TX_3599c101</td>\n",
       "      <td>CUST_70474</td>\n",
       "      <td>376800864692727</td>\n",
       "      <td>2024-09-30 00:00:01.764464</td>\n",
       "      <td>Entertainment</td>\n",
       "      <td>gaming</td>\n",
       "      <td>Steam</td>\n",
       "      <td>3368.97</td>\n",
       "      <td>BRL</td>\n",
       "      <td>...</td>\n",
       "      <td>Edge</td>\n",
       "      <td>web</td>\n",
       "      <td>a73043a57091e775af37f252b3a32af9</td>\n",
       "      <td>208.123.221.203</td>\n",
       "      <td>True</td>\n",
       "      <td>True</td>\n",
       "      <td>False</td>\n",
       "      <td>{'num_transactions': 509, 'total_amount': 2011...</td>\n",
       "      <td>True</td>\n",
       "      <td>{\"max_single_amount\": 5149117.011434267, \"num_...</td>\n",
       "    </tr>\n",
       "    <tr>\n",
       "      <th>2</th>\n",
       "      <td>TX_a9461c6d_218864e94ceaa41577d216b149722261</td>\n",
       "      <td>TX_a9461c6d</td>\n",
       "      <td>CUST_10715</td>\n",
       "      <td>5251909460951913</td>\n",
       "      <td>2024-09-30 00:00:02.273762</td>\n",
       "      <td>Grocery</td>\n",
       "      <td>physical</td>\n",
       "      <td>Whole Foods</td>\n",
       "      <td>102582.38</td>\n",
       "      <td>JPY</td>\n",
       "      <td>...</td>\n",
       "      <td>Firefox</td>\n",
       "      <td>web</td>\n",
       "      <td>218864e94ceaa41577d216b149722261</td>\n",
       "      <td>10.194.159.204</td>\n",
       "      <td>False</td>\n",
       "      <td>False</td>\n",
       "      <td>False</td>\n",
       "      <td>{'num_transactions': 332, 'total_amount': 3916...</td>\n",
       "      <td>False</td>\n",
       "      <td>{\"max_single_amount\": 1852242.1831665323, \"num...</td>\n",
       "    </tr>\n",
       "    <tr>\n",
       "      <th>3</th>\n",
       "      <td>TX_7be21fc4_70423fa3a1e74d01203cf93b51b9631d</td>\n",
       "      <td>TX_7be21fc4</td>\n",
       "      <td>CUST_16193</td>\n",
       "      <td>376079286931183</td>\n",
       "      <td>2024-09-30 00:00:02.297466</td>\n",
       "      <td>Gas</td>\n",
       "      <td>major</td>\n",
       "      <td>Exxon</td>\n",
       "      <td>630.60</td>\n",
       "      <td>AUD</td>\n",
       "      <td>...</td>\n",
       "      <td>iOS App</td>\n",
       "      <td>mobile</td>\n",
       "      <td>70423fa3a1e74d01203cf93b51b9631d</td>\n",
       "      <td>17.230.177.225</td>\n",
       "      <td>False</td>\n",
       "      <td>False</td>\n",
       "      <td>False</td>\n",
       "      <td>{'num_transactions': 764, 'total_amount': 2201...</td>\n",
       "      <td>False</td>\n",
       "      <td>{\"max_single_amount\": 2055798.460682913, \"num_...</td>\n",
       "    </tr>\n",
       "    <tr>\n",
       "      <th>4</th>\n",
       "      <td>TX_150f490b_9880776c7b6038f2af86bd4e18a1b1a4</td>\n",
       "      <td>TX_150f490b</td>\n",
       "      <td>CUST_87572</td>\n",
       "      <td>6172948052178810</td>\n",
       "      <td>2024-09-30 00:00:02.544063</td>\n",
       "      <td>Healthcare</td>\n",
       "      <td>medical</td>\n",
       "      <td>Medical Center</td>\n",
       "      <td>724949.27</td>\n",
       "      <td>NGN</td>\n",
       "      <td>...</td>\n",
       "      <td>Chrome</td>\n",
       "      <td>web</td>\n",
       "      <td>9880776c7b6038f2af86bd4e18a1b1a4</td>\n",
       "      <td>136.241.219.151</td>\n",
       "      <td>True</td>\n",
       "      <td>False</td>\n",
       "      <td>False</td>\n",
       "      <td>{'num_transactions': 218, 'total_amount': 4827...</td>\n",
       "      <td>True</td>\n",
       "      <td>{\"max_single_amount\": 1157231.252130005, \"num_...</td>\n",
       "    </tr>\n",
       "  </tbody>\n",
       "</table>\n",
       "<p>5 rows × 25 columns</p>\n",
       "</div>"
      ],
      "text/plain": [
       "                          custom_transaction_id transaction_id customer_id  \\\n",
       "0  TX_a0ad2a2a_e8e6160445c935fd0001501e4cbac8bc    TX_a0ad2a2a  CUST_72886   \n",
       "1  TX_3599c101_a73043a57091e775af37f252b3a32af9    TX_3599c101  CUST_70474   \n",
       "2  TX_a9461c6d_218864e94ceaa41577d216b149722261    TX_a9461c6d  CUST_10715   \n",
       "3  TX_7be21fc4_70423fa3a1e74d01203cf93b51b9631d    TX_7be21fc4  CUST_16193   \n",
       "4  TX_150f490b_9880776c7b6038f2af86bd4e18a1b1a4    TX_150f490b  CUST_87572   \n",
       "\n",
       "        card_number                  timestamp vendor_category vendor_type  \\\n",
       "0  6646734767813109 2024-09-30 00:00:01.034820      Restaurant   fast_food   \n",
       "1   376800864692727 2024-09-30 00:00:01.764464   Entertainment      gaming   \n",
       "2  5251909460951913 2024-09-30 00:00:02.273762         Grocery    physical   \n",
       "3   376079286931183 2024-09-30 00:00:02.297466             Gas       major   \n",
       "4  6172948052178810 2024-09-30 00:00:02.544063      Healthcare     medical   \n",
       "\n",
       "           vendor     amount currency  ...   device channel  \\\n",
       "0       Taco Bell     294.87      GBP  ...  iOS App  mobile   \n",
       "1           Steam    3368.97      BRL  ...     Edge     web   \n",
       "2     Whole Foods  102582.38      JPY  ...  Firefox     web   \n",
       "3           Exxon     630.60      AUD  ...  iOS App  mobile   \n",
       "4  Medical Center  724949.27      NGN  ...   Chrome     web   \n",
       "\n",
       "                 device_fingerprint       ip_address  is_outside_home_country  \\\n",
       "0  e8e6160445c935fd0001501e4cbac8bc   197.153.60.199                    False   \n",
       "1  a73043a57091e775af37f252b3a32af9  208.123.221.203                     True   \n",
       "2  218864e94ceaa41577d216b149722261   10.194.159.204                    False   \n",
       "3  70423fa3a1e74d01203cf93b51b9631d   17.230.177.225                    False   \n",
       "4  9880776c7b6038f2af86bd4e18a1b1a4  136.241.219.151                     True   \n",
       "\n",
       "  is_high_risk_vendor is_weekend  \\\n",
       "0               False      False   \n",
       "1                True      False   \n",
       "2               False      False   \n",
       "3               False      False   \n",
       "4               False      False   \n",
       "\n",
       "                                  last_hour_activity is_fraud  \\\n",
       "0  {'num_transactions': 1197, 'total_amount': 334...    False   \n",
       "1  {'num_transactions': 509, 'total_amount': 2011...     True   \n",
       "2  {'num_transactions': 332, 'total_amount': 3916...    False   \n",
       "3  {'num_transactions': 764, 'total_amount': 2201...    False   \n",
       "4  {'num_transactions': 218, 'total_amount': 4827...     True   \n",
       "\n",
       "                             last_hour_activity_json  \n",
       "0  {\"max_single_amount\": 1925480.6324148502, \"num...  \n",
       "1  {\"max_single_amount\": 5149117.011434267, \"num_...  \n",
       "2  {\"max_single_amount\": 1852242.1831665323, \"num...  \n",
       "3  {\"max_single_amount\": 2055798.460682913, \"num_...  \n",
       "4  {\"max_single_amount\": 1157231.252130005, \"num_...  \n",
       "\n",
       "[5 rows x 25 columns]"
      ]
     },
     "execution_count": 28,
     "metadata": {},
     "output_type": "execute_result"
    }
   ],
   "source": [
    "transaction_fraud_data_processed['custom_transaction_id'] = transaction_fraud_data['transaction_id'] + '_' + transaction_fraud_data['device_fingerprint']\n",
    "col = transaction_fraud_data_processed.pop('custom_transaction_id')\n",
    "transaction_fraud_data_processed.insert(0, 'custom_transaction_id', col)\n",
    "transaction_fraud_data_processed.head()"
   ]
  },
  {
   "cell_type": "code",
   "execution_count": null,
   "id": "75b17158",
   "metadata": {},
   "outputs": [
    {
     "data": {
      "text/plain": [
       "np.int64(0)"
      ]
     },
     "execution_count": 29,
     "metadata": {},
     "output_type": "execute_result"
    }
   ],
   "source": [
    "# проверим, что новое поле не содержит дубликатов\n",
    "dupe_custom_txns = transaction_fraud_data_processed['custom_transaction_id'].duplicated().sum()\n",
    "dupe_custom_txns"
   ]
  },
  {
   "cell_type": "markdown",
   "id": "228abe6d",
   "metadata": {},
   "source": [
    "### Проверка категориальных полей"
   ]
  },
  {
   "cell_type": "code",
   "execution_count": 34,
   "id": "8ea7d6e0",
   "metadata": {},
   "outputs": [],
   "source": [
    "def get_uniq_category_field_values(df: pd.DataFrame, categ_columns: list[str]):\n",
    "    for cc in categ_columns:\n",
    "        print(f\"Уникальные значения колонки {cc}:\")\n",
    "        print(df[cc].unique().tolist())\n",
    "        print()"
   ]
  },
  {
   "cell_type": "code",
   "execution_count": 37,
   "id": "2938f3dc",
   "metadata": {},
   "outputs": [
    {
     "name": "stdout",
     "output_type": "stream",
     "text": [
      "Колонки, относящиеся к информации о вендоре:\n",
      "\n",
      "Уникальные значения колонки vendor_category:\n",
      "['Restaurant', 'Entertainment', 'Grocery', 'Gas', 'Healthcare', 'Education', 'Travel', 'Retail']\n",
      "\n",
      "Уникальные значения колонки vendor_type:\n",
      "['fast_food', 'gaming', 'physical', 'major', 'medical', 'online', 'hotels', 'pharmacy', 'premium', 'events', 'supplies', 'airlines', 'local', 'booking', 'streaming', 'transport', 'casual']\n",
      "\n",
      "Уникальные значения колонки vendor:\n",
      "['Taco Bell', 'Steam', 'Whole Foods', 'Exxon', 'Medical Center', 'Coursera', 'Instacart', 'Westin', 'eBay', 'DuaneReade', 'Nobu', 'FreshDirect', 'StubHub', 'University Bookstore', 'American Airlines', 'Home Depot', \"Morton's\", 'Ticketmaster', 'Skillshare', 'Local Gas Station', 'Texaco', 'Hotels.com', 'Walmart Grocery', 'Epic Games', 'AMC Theaters', 'Etsy', 'IKEA', 'Costco', 'Spotify', 'Capital Grille', \"Trader Joe's\", 'Urgent Care', 'Careem', \"Wendy's\", \"Macy's\", 'Udemy', 'Target', 'Truck Stop', 'BP', 'TGI Fridays', 'Chevron', 'Amazon', 'Newegg', 'Nike Store', 'Amazon Prime', 'Aldi', 'MasterClass', 'Burger King', 'Airbnb', 'Xbox Live', 'Red Lobster', 'Highway Gas Stop', 'Walmart', 'LiveNation', 'KFC', 'Mobil', 'Wayfair', \"Applebee's\", 'Chegg', 'Lyft', 'JetBlue', 'Netflix', 'Publix', 'Amazon Fresh', 'CVS Pharmacy', 'Uber', 'Disney+', 'PlayStation Store', 'edX', 'AliExpress', 'Local Hospital', 'Regal Cinemas', 'Rite Aid', 'Shopify Store', 'Barnes & Noble', \"McDonald's\", 'Lab Corp', 'Holiday Inn', 'Expedia', 'Hertz', 'Safeway', 'Emirates', 'Nintendo eShop', 'Olive Garden', 'Shell', \"Chili's\", 'Food Lion', 'Kayak', 'Marriott', 'Walgreens', 'HBO Max', \"Ruth's Chris\", 'Hyatt', 'Booking.com', 'Delta', 'Hulu', 'United Airlines', 'Apple Music', 'Enterprise Rent-A-Car', 'Southwest', 'Subway', 'Kroger', 'Sheraton', 'Best Buy', 'Hilton']\n",
      "\n"
     ]
    }
   ],
   "source": [
    "print(\"Колонки, относящиеся к информации о вендоре:\\n\")\n",
    "vendor_categ_columns = [\n",
    "    \"vendor_category\",\n",
    "    \"vendor_type\",\n",
    "    \"vendor\"\n",
    "]\n",
    "get_uniq_category_field_values(transaction_fraud_data_processed, categ_columns)"
   ]
  },
  {
   "cell_type": "code",
   "execution_count": 42,
   "id": "0fb35c06",
   "metadata": {},
   "outputs": [
    {
     "name": "stdout",
     "output_type": "stream",
     "text": [
      "Валюта:\n",
      "\n",
      "Уникальные значения колонки currency:\n",
      "['GBP', 'BRL', 'JPY', 'AUD', 'NGN', 'EUR', 'MXN', 'RUB', 'CAD', 'SGD', 'USD']\n",
      "\n",
      "\n",
      "Валюты с известынм курсом:\n",
      "['AUD', 'BRL', 'CAD', 'EUR', 'GBP', 'JPY', 'MXN', 'NGN', 'RUB', 'SGD', 'USD']\n"
     ]
    }
   ],
   "source": [
    "print(\"Валюта:\\n\")\n",
    "currency_categ_columns = [\"currency\"]\n",
    "get_uniq_category_field_values(transaction_fraud_data_processed, currency_categ_columns)\n",
    "print()\n",
    "print('Валюты с известынм курсом:')\n",
    "print(historical_currency_exchange.columns.to_list()[1:])"
   ]
  },
  {
   "cell_type": "code",
   "execution_count": 44,
   "id": "8c2d21dd",
   "metadata": {},
   "outputs": [
    {
     "name": "stdout",
     "output_type": "stream",
     "text": [
      "Проверка гео фичей:\n",
      "\n",
      "Уникальные значения колонки country:\n",
      "['UK', 'Brazil', 'Japan', 'Australia', 'Nigeria', 'Germany', 'Mexico', 'Russia', 'France', 'Canada', 'Singapore', 'USA']\n",
      "\n",
      "Уникальные значения колонки city:\n",
      "['Unknown City', 'San Antonio', 'Philadelphia', 'Phoenix', 'San Diego', 'Los Angeles', 'Chicago', 'Dallas', 'New York', 'San Jose', 'Houston']\n",
      "\n",
      "Уникальные значения колонки city_size:\n",
      "['medium', 'large']\n",
      "\n"
     ]
    }
   ],
   "source": [
    "print(\"Проверка гео фичей:\\n\")\n",
    "geo_categ_columns = ['country', 'city', 'city_size']\n",
    "get_uniq_category_field_values(transaction_fraud_data_processed, geo_categ_columns)"
   ]
  },
  {
   "cell_type": "markdown",
   "id": "a026990e",
   "metadata": {},
   "source": [
    "Можно заметить, что определены только некоторые города из USA."
   ]
  },
  {
   "cell_type": "code",
   "execution_count": 47,
   "id": "ddddcb33",
   "metadata": {},
   "outputs": [],
   "source": [
    "def check_ip_version(ip):\n",
    "    try:\n",
    "        ip_obj = ipaddress.ip_address(ip)\n",
    "        return 'IPv4' if isinstance(ip_obj, ipaddress.IPv4Address) else 'IPv6'\n",
    "    except ValueError:\n",
    "        return 'Invalid'"
   ]
  },
  {
   "cell_type": "code",
   "execution_count": 48,
   "id": "49766bac",
   "metadata": {},
   "outputs": [
    {
     "data": {
      "text/plain": [
       "['IPv4']"
      ]
     },
     "execution_count": 48,
     "metadata": {},
     "output_type": "execute_result"
    }
   ],
   "source": [
    "# Проверим корректность указанных IP адресов\n",
    "ip_versions = transaction_fraud_data_processed['ip_address'].apply(check_ip_version)\n",
    "ip_versions.unique().tolist()"
   ]
  },
  {
   "cell_type": "code",
   "execution_count": 50,
   "id": "6c9edda7",
   "metadata": {},
   "outputs": [
    {
     "name": "stdout",
     "output_type": "stream",
     "text": [
      "Кол-во различных транзакций всего: 7483766\n",
      "Кол-во фродовых транзакций: 1494719\n",
      "% фродовых транзакций: 19.97%\n"
     ]
    }
   ],
   "source": [
    "# Проверим содержание фродовых транзакций в датасете.\n",
    "\n",
    "total_tr = len(transaction_fraud_data_processed)\n",
    "fraud_tr = len(transaction_fraud_data_processed[transaction_fraud_data_processed['is_fraud'] == 1])\n",
    "\n",
    "print(f'Кол-во различных транзакций всего: {total_tr}')\n",
    "print(f'Кол-во фродовых транзакций: {fraud_tr}')\n",
    "print(f'% фродовых транзакций: {round(fraud_tr / total_tr, 4) * 100}%')\n",
    "\n",
    "\n"
   ]
  },
  {
   "cell_type": "markdown",
   "id": "23854139",
   "metadata": {},
   "source": [
    "Можно заметить, что почти 1/5 всех транзакций - фродовые.\n",
    "<br> Поэтому мы **не можем** назвать наш датасет highly unbalanced"
   ]
  },
  {
   "cell_type": "markdown",
   "id": "9f5efd6f",
   "metadata": {},
   "source": [
    "### Проверка количественных полей"
   ]
  },
  {
   "cell_type": "code",
   "execution_count": 52,
   "id": "aa1aa2d2",
   "metadata": {},
   "outputs": [
    {
     "name": "stdout",
     "output_type": "stream",
     "text": [
      "Самая старая транзакция:2024-09-30 00:00:01.034820\n",
      "Самая новая транзакция:2024-10-30 23:59:59.101885\n"
     ]
    }
   ],
   "source": [
    "print(f'Самая старая транзакция:{transaction_fraud_data_processed['timestamp'].min()}')\n",
    "print(f'Самая новая транзакция:{transaction_fraud_data_processed['timestamp'].max()}')\n"
   ]
  },
  {
   "cell_type": "markdown",
   "id": "32272abb",
   "metadata": {},
   "source": [
    "Период охватывает один календарный месяц и выглядит реалистично.\n",
    "<br> В тоже время, это ограничивает возможность анализа сезонных колебаний в разрезе времён года или лет."
   ]
  },
  {
   "cell_type": "code",
   "execution_count": 54,
   "id": "d5bb57d2",
   "metadata": {},
   "outputs": [],
   "source": [
    "def convert_to_usd(row):\n",
    "    currency = row['currency']\n",
    "    amount = row['amount']\n",
    "    \n",
    "    # If already in USD, no conversion needed\n",
    "    if currency == 'USD':\n",
    "        return amount\n",
    "    \n",
    "    # Get the exchange rate for the currency\n",
    "    # If exchange rate is how many units of currency equal 1 USD\n",
    "    if currency in row and pd.notna(row[currency]):\n",
    "        return amount / row[currency]\n",
    "    else:\n",
    "        # Handle missing exchange rates\n",
    "        return None"
   ]
  },
  {
   "cell_type": "code",
   "execution_count": 56,
   "id": "53425131",
   "metadata": {},
   "outputs": [
    {
     "data": {
      "text/plain": [
       "Index(['custom_transaction_id', 'transaction_id', 'customer_id', 'card_number',\n",
       "       'timestamp', 'vendor_category', 'vendor_type', 'vendor', 'amount',\n",
       "       'currency', 'country', 'city', 'city_size', 'card_type',\n",
       "       'is_card_present', 'device', 'channel', 'device_fingerprint',\n",
       "       'ip_address', 'is_outside_home_country', 'is_high_risk_vendor',\n",
       "       'is_weekend', 'last_hour_activity', 'is_fraud',\n",
       "       'last_hour_activity_json', 'date', 'AUD', 'BRL', 'CAD', 'EUR', 'GBP',\n",
       "       'JPY', 'MXN', 'NGN', 'RUB', 'SGD', 'USD', 'amount_usd'],\n",
       "      dtype='object')"
      ]
     },
     "execution_count": 56,
     "metadata": {},
     "output_type": "execute_result"
    }
   ],
   "source": [
    "# Проверка диапазона суммы транзакции\n",
    "\n",
    "# Для начала конфертируем все суммы в доллары:\n",
    "transaction_fraud_data_processed['date'] = transaction_fraud_data_processed['timestamp'].dt.date\n",
    "\n",
    "merged_data = pd.merge(\n",
    "    transaction_fraud_data_processed, \n",
    "    historical_currency_exchange, \n",
    "    on='date', \n",
    "    how='left'\n",
    ")\n",
    "merged_data['amount_usd'] = merged_data.apply(convert_to_usd, axis=1)\n",
    "merged_data.columns"
   ]
  },
  {
   "cell_type": "code",
   "execution_count": 57,
   "id": "f2cd1663",
   "metadata": {},
   "outputs": [
    {
     "data": {
      "text/plain": [
       "Index(['custom_transaction_id', 'transaction_id', 'customer_id', 'card_number',\n",
       "       'timestamp', 'vendor_category', 'vendor_type', 'vendor', 'amount',\n",
       "       'currency', 'country', 'city', 'city_size', 'card_type',\n",
       "       'is_card_present', 'device', 'channel', 'device_fingerprint',\n",
       "       'ip_address', 'is_outside_home_country', 'is_high_risk_vendor',\n",
       "       'is_weekend', 'last_hour_activity', 'is_fraud',\n",
       "       'last_hour_activity_json', 'date', 'amount_usd'],\n",
       "      dtype='object')"
      ]
     },
     "execution_count": 57,
     "metadata": {},
     "output_type": "execute_result"
    }
   ],
   "source": [
    "transaction_fraud_data_processed = merged_data[transaction_fraud_data_processed.columns.to_list() + ['amount_usd']].copy()\n",
    "transaction_fraud_data_processed.columns\n"
   ]
  },
  {
   "cell_type": "code",
   "execution_count": 58,
   "id": "5b65c581",
   "metadata": {},
   "outputs": [
    {
     "name": "stdout",
     "output_type": "stream",
     "text": [
      "Минимальная сумма транзакции: 0.0$\n",
      "Максимальная сумма транзакции: 15781.54$\n"
     ]
    }
   ],
   "source": [
    "print(f'Минимальная сумма транзакции: {round(transaction_fraud_data_processed['amount_usd'].min(), 2)}$')\n",
    "print(f'Максимальная сумма транзакции: {round(transaction_fraud_data_processed['amount_usd'].max(), 2)}$')"
   ]
  },
  {
   "cell_type": "markdown",
   "id": "bcc3c18f",
   "metadata": {},
   "source": [
    "Диапазон суммы транзакции выглядит реалистично"
   ]
  },
  {
   "cell_type": "markdown",
   "id": "e8e27fdd",
   "metadata": {},
   "source": [
    "**Основные выводы после стадии Data Quality Assessment and Preprocessing**\n",
    "\n",
    "- В датасете нет null значений\n",
    "\n",
    "- В датасете содержатся отличающиеся строки, но с одинаковым ```transaction_id```.\n",
    "<br>Для создания уникального идентификатора мы создали поле = ```transaction_id``` + ```device_fingerprint```\n",
    "\n",
    "- Добавил поле ```amount_usd```, которое равно ```amount``` в долларах\n",
    "\n",
    "- Поле ```city``` содержит названия только нескольких американских городов, остальные помечены как 'Unknown City'\n",
    "\n",
    "- Датасеты содержит информацию о транзакциях с 2024-09-30 по 2024-10-30\n",
    "\n",
    "- Примерно 1/5 датасета это фродовые транзакции\n"
   ]
  },
  {
   "cell_type": "markdown",
   "id": "aa05ca6c",
   "metadata": {},
   "source": [
    "## Data analysis and visualisation"
   ]
  },
  {
   "cell_type": "markdown",
   "id": "3b6f7f56",
   "metadata": {},
   "source": [
    "Так как датасет сожержит довольно большое кол-во фродовых транзакций, дальнейший анализ будет проводиться в разрезе двух категорий: фрод и не фрод"
   ]
  },
  {
   "cell_type": "markdown",
   "id": "73358cd8",
   "metadata": {},
   "source": [
    "#### Гео анализ"
   ]
  },
  {
   "cell_type": "code",
   "execution_count": 68,
   "id": "d315558c",
   "metadata": {},
   "outputs": [
    {
     "name": "stdout",
     "output_type": "stream",
     "text": [
      "Кол-во стран: 12\n"
     ]
    },
    {
     "data": {
      "text/plain": [
       "['UK',\n",
       " 'Brazil',\n",
       " 'Japan',\n",
       " 'Australia',\n",
       " 'Nigeria',\n",
       " 'Germany',\n",
       " 'Mexico',\n",
       " 'Russia',\n",
       " 'France',\n",
       " 'Canada',\n",
       " 'Singapore',\n",
       " 'USA']"
      ]
     },
     "execution_count": 68,
     "metadata": {},
     "output_type": "execute_result"
    }
   ],
   "source": [
    "uniq_countries = transaction_fraud_data_processed['country'].unique()\n",
    "print(f\"Кол-во стран: {len(uniq_countries)}\")\n",
    "uniq_countries.tolist()"
   ]
  },
  {
   "cell_type": "code",
   "execution_count": 63,
   "id": "c2b996d4",
   "metadata": {},
   "outputs": [],
   "source": [
    "# Group by country to get total and fraud counts\n",
    "country_stats = (\n",
    "    transaction_fraud_data_processed\n",
    "      .groupby('country', as_index=False)\n",
    "      .agg(\n",
    "          total_txns=('custom_transaction_id','count'),\n",
    "          fraud_txns=('is_fraud','sum'),\n",
    "      )\n",
    ")\n",
    "\n",
    "# Calculate fraud rate as a percentage\n",
    "country_stats['fraud_rate'] = country_stats['fraud_txns'] / country_stats['total_txns'] * 100\n",
    "country_stats['txns_rate'] = country_stats['total_txns'] / len(transaction_fraud_data_processed) * 100\n"
   ]
  },
  {
   "cell_type": "markdown",
   "id": "fcc9e852",
   "metadata": {},
   "source": [
    "Топ 5 стран по % фродовых транзакций"
   ]
  },
  {
   "cell_type": "code",
   "execution_count": 64,
   "id": "39ed1df8",
   "metadata": {},
   "outputs": [
    {
     "data": {
      "text/html": [
       "<div>\n",
       "<style scoped>\n",
       "    .dataframe tbody tr th:only-of-type {\n",
       "        vertical-align: middle;\n",
       "    }\n",
       "\n",
       "    .dataframe tbody tr th {\n",
       "        vertical-align: top;\n",
       "    }\n",
       "\n",
       "    .dataframe thead th {\n",
       "        text-align: right;\n",
       "    }\n",
       "</style>\n",
       "<table border=\"1\" class=\"dataframe\">\n",
       "  <thead>\n",
       "    <tr style=\"text-align: right;\">\n",
       "      <th></th>\n",
       "      <th>country</th>\n",
       "      <th>total_txns</th>\n",
       "      <th>fraud_txns</th>\n",
       "      <th>fraud_rate</th>\n",
       "      <th>txns_rate</th>\n",
       "    </tr>\n",
       "  </thead>\n",
       "  <tbody>\n",
       "    <tr>\n",
       "      <th>6</th>\n",
       "      <td>Mexico</td>\n",
       "      <td>785704</td>\n",
       "      <td>298841</td>\n",
       "      <td>38.034807</td>\n",
       "      <td>10.498778</td>\n",
       "    </tr>\n",
       "    <tr>\n",
       "      <th>8</th>\n",
       "      <td>Russia</td>\n",
       "      <td>793730</td>\n",
       "      <td>299425</td>\n",
       "      <td>37.723785</td>\n",
       "      <td>10.606024</td>\n",
       "    </tr>\n",
       "    <tr>\n",
       "      <th>1</th>\n",
       "      <td>Brazil</td>\n",
       "      <td>804800</td>\n",
       "      <td>298629</td>\n",
       "      <td>37.105989</td>\n",
       "      <td>10.753944</td>\n",
       "    </tr>\n",
       "    <tr>\n",
       "      <th>7</th>\n",
       "      <td>Nigeria</td>\n",
       "      <td>849840</td>\n",
       "      <td>298600</td>\n",
       "      <td>35.136026</td>\n",
       "      <td>11.355780</td>\n",
       "    </tr>\n",
       "    <tr>\n",
       "      <th>0</th>\n",
       "      <td>Australia</td>\n",
       "      <td>496695</td>\n",
       "      <td>37652</td>\n",
       "      <td>7.580507</td>\n",
       "      <td>6.636966</td>\n",
       "    </tr>\n",
       "  </tbody>\n",
       "</table>\n",
       "</div>"
      ],
      "text/plain": [
       "     country  total_txns  fraud_txns  fraud_rate  txns_rate\n",
       "6     Mexico      785704      298841   38.034807  10.498778\n",
       "8     Russia      793730      299425   37.723785  10.606024\n",
       "1     Brazil      804800      298629   37.105989  10.753944\n",
       "7    Nigeria      849840      298600   35.136026  11.355780\n",
       "0  Australia      496695       37652    7.580507   6.636966"
      ]
     },
     "execution_count": 64,
     "metadata": {},
     "output_type": "execute_result"
    }
   ],
   "source": [
    "country_stats.sort_values(['fraud_rate'], ascending=False).head()"
   ]
  },
  {
   "cell_type": "markdown",
   "id": "c882de87",
   "metadata": {},
   "source": [
    "Топ 5 стран по % транзакций от общего числа"
   ]
  },
  {
   "cell_type": "code",
   "execution_count": 67,
   "id": "a32fd324",
   "metadata": {},
   "outputs": [
    {
     "data": {
      "text/html": [
       "<div>\n",
       "<style scoped>\n",
       "    .dataframe tbody tr th:only-of-type {\n",
       "        vertical-align: middle;\n",
       "    }\n",
       "\n",
       "    .dataframe tbody tr th {\n",
       "        vertical-align: top;\n",
       "    }\n",
       "\n",
       "    .dataframe thead th {\n",
       "        text-align: right;\n",
       "    }\n",
       "</style>\n",
       "<table border=\"1\" class=\"dataframe\">\n",
       "  <thead>\n",
       "    <tr style=\"text-align: right;\">\n",
       "      <th></th>\n",
       "      <th>country</th>\n",
       "      <th>total_txns</th>\n",
       "      <th>fraud_txns</th>\n",
       "      <th>fraud_rate</th>\n",
       "      <th>txns_rate</th>\n",
       "    </tr>\n",
       "  </thead>\n",
       "  <tbody>\n",
       "    <tr>\n",
       "      <th>7</th>\n",
       "      <td>Nigeria</td>\n",
       "      <td>849840</td>\n",
       "      <td>298600</td>\n",
       "      <td>35.136026</td>\n",
       "      <td>11.355780</td>\n",
       "    </tr>\n",
       "    <tr>\n",
       "      <th>1</th>\n",
       "      <td>Brazil</td>\n",
       "      <td>804800</td>\n",
       "      <td>298629</td>\n",
       "      <td>37.105989</td>\n",
       "      <td>10.753944</td>\n",
       "    </tr>\n",
       "    <tr>\n",
       "      <th>8</th>\n",
       "      <td>Russia</td>\n",
       "      <td>793730</td>\n",
       "      <td>299425</td>\n",
       "      <td>37.723785</td>\n",
       "      <td>10.606024</td>\n",
       "    </tr>\n",
       "    <tr>\n",
       "      <th>6</th>\n",
       "      <td>Mexico</td>\n",
       "      <td>785704</td>\n",
       "      <td>298841</td>\n",
       "      <td>38.034807</td>\n",
       "      <td>10.498778</td>\n",
       "    </tr>\n",
       "    <tr>\n",
       "      <th>9</th>\n",
       "      <td>Singapore</td>\n",
       "      <td>588668</td>\n",
       "      <td>37414</td>\n",
       "      <td>6.355705</td>\n",
       "      <td>7.865933</td>\n",
       "    </tr>\n",
       "  </tbody>\n",
       "</table>\n",
       "</div>"
      ],
      "text/plain": [
       "     country  total_txns  fraud_txns  fraud_rate  txns_rate\n",
       "7    Nigeria      849840      298600   35.136026  11.355780\n",
       "1     Brazil      804800      298629   37.105989  10.753944\n",
       "8     Russia      793730      299425   37.723785  10.606024\n",
       "6     Mexico      785704      298841   38.034807  10.498778\n",
       "9  Singapore      588668       37414    6.355705   7.865933"
      ]
     },
     "execution_count": 67,
     "metadata": {},
     "output_type": "execute_result"
    }
   ],
   "source": [
    "country_stats.sort_values(['txns_rate'], ascending=False).head()"
   ]
  },
  {
   "cell_type": "code",
   "execution_count": null,
   "id": "7a04c4c9",
   "metadata": {},
   "outputs": [],
   "source": [
    "country_name_map = {\n",
    "    'UK': 'United Kingdom',\n",
    "    'USA': 'United States',\n",
    "    'Brazil': 'Brazil',\n",
    "    'Japan': 'Japan',\n",
    "    'Australia': 'Australia',\n",
    "    'Nigeria': 'Nigeria',\n",
    "    'Germany': 'Germany',\n",
    "    'Mexico': 'Mexico',\n",
    "    'Russia': 'Russia',\n",
    "    'France': 'France',\n",
    "    'Canada': 'Canada',\n",
    "    'Singapore': 'Singapore'\n",
    "}"
   ]
  },
  {
   "cell_type": "code",
   "execution_count": 72,
   "id": "9c598f26",
   "metadata": {},
   "outputs": [],
   "source": [
    "fig = px.choropleth(\n",
    "    country_stats,\n",
    "    locations='country',            # column with country names\n",
    "    locationmode='country names',   # tells Plotly to match on names\n",
    "    color='fraud_rate',             # value to color by\n",
    "    hover_name='country',           # what shows on hover\n",
    "    hover_data={\n",
    "        'total_txns': True,\n",
    "        'fraud_txns': True,\n",
    "        'fraud_rate': ':.2f',        # two‐decimal formatting\n",
    "        'txns_rate': ':.2f'\n",
    "    },\n",
    "    color_continuous_scale='Reds',\n",
    "    title='Interactive Map: Fraud Rate by Country'\n",
    ")"
   ]
  },
  {
   "cell_type": "code",
   "execution_count": 73,
   "id": "9b85a814",
   "metadata": {},
   "outputs": [
    {
     "data": {
      "application/vnd.plotly.v1+json": {
       "config": {
        "plotlyServerURL": "https://plot.ly"
       },
       "data": [
        {
         "coloraxis": "coloraxis",
         "customdata": {
          "bdata": "AAAAANxQHkEAAAAAgGLiQMt8iHdwUh5Arbg8zECMGkAAAAAAgI8oQQAAAAAUOhJBp0G5DJGNQkBv/47wBIIlQAAAAAAwQSBBAAAAAMAz4kC8KT7jzP4bQJjx+TD6dxxAAAAAAM6EIEEAAAAAQEbiQFT9dDs0qBtAZR0tO2fuHEAAAAAAYAEgQQAAAACgKuJA6M5pvClgHEAgfEMINwgcQAAAAABCGCBBAAAAAABb4kBvKt3y9YIcQI15RNZKMBxAAAAAAFD6J0EAAAAAZD0SQSO4SY50BENAL40t3l//JEAAAAAAYO8pQQAAAACgORJBRw96SWmRQUAzIJ7KKLYmQAAAAAAEOShBAAAAAIRGEkGPKgn+pNxCQFrM/75INiVAAAAAAPj2IUEAAAAAwETiQNkDQ909bBlAiCqAErd2H0AAAAAA+m4gQQAAAAAgPOJALqw+fYm9G0ClXylPLMgcQAAAAABwhR5BAAAAAAA44kBk472qlNgdQCfGtdZLuhpA",
          "dtype": "f8",
          "shape": "12, 4"
         },
         "geo": "geo",
         "hovertemplate": "<b>%{hovertext}</b><br><br>country=%{location}<br>total_txns=%{customdata[0]}<br>fraud_txns=%{customdata[1]}<br>fraud_rate=%{z:.2f}<br>txns_rate=%{customdata[3]:.2f}<extra></extra>",
         "hovertext": [
          "Australia",
          "Brazil",
          "Canada",
          "France",
          "Germany",
          "Japan",
          "Mexico",
          "Nigeria",
          "Russia",
          "Singapore",
          "UK",
          "USA"
         ],
         "locationmode": "country names",
         "locations": [
          "Australia",
          "Brazil",
          "Canada",
          "France",
          "Germany",
          "Japan",
          "Mexico",
          "Nigeria",
          "Russia",
          "Singapore",
          "UK",
          "USA"
         ],
         "name": "",
         "type": "choropleth",
         "z": {
          "bdata": "y3yId3BSHkCnQbkMkY1CQLwpPuPM/htAVP10OzSoG0Dozmm8KWAcQG8q3fL1ghxAI7hJjnQEQ0BHD3pJaZFBQI8qCf6k3EJA2QND3T1sGUAurD59ib0bQGTjvaqU2B1A",
          "dtype": "f8"
         }
        }
       ],
       "layout": {
        "coloraxis": {
         "colorbar": {
          "tickformat": ".1f",
          "title": {
           "text": "Fraud Rate (%)"
          }
         },
         "colorscale": [
          [
           0,
           "rgb(255,245,240)"
          ],
          [
           0.125,
           "rgb(254,224,210)"
          ],
          [
           0.25,
           "rgb(252,187,161)"
          ],
          [
           0.375,
           "rgb(252,146,114)"
          ],
          [
           0.5,
           "rgb(251,106,74)"
          ],
          [
           0.625,
           "rgb(239,59,44)"
          ],
          [
           0.75,
           "rgb(203,24,29)"
          ],
          [
           0.875,
           "rgb(165,15,21)"
          ],
          [
           1,
           "rgb(103,0,13)"
          ]
         ]
        },
        "geo": {
         "center": {},
         "domain": {
          "x": [
           0,
           1
          ],
          "y": [
           0,
           1
          ]
         }
        },
        "legend": {
         "tracegroupgap": 0
        },
        "margin": {
         "b": 0,
         "l": 0,
         "r": 0,
         "t": 50
        },
        "template": {
         "data": {
          "bar": [
           {
            "error_x": {
             "color": "#2a3f5f"
            },
            "error_y": {
             "color": "#2a3f5f"
            },
            "marker": {
             "line": {
              "color": "#E5ECF6",
              "width": 0.5
             },
             "pattern": {
              "fillmode": "overlay",
              "size": 10,
              "solidity": 0.2
             }
            },
            "type": "bar"
           }
          ],
          "barpolar": [
           {
            "marker": {
             "line": {
              "color": "#E5ECF6",
              "width": 0.5
             },
             "pattern": {
              "fillmode": "overlay",
              "size": 10,
              "solidity": 0.2
             }
            },
            "type": "barpolar"
           }
          ],
          "carpet": [
           {
            "aaxis": {
             "endlinecolor": "#2a3f5f",
             "gridcolor": "white",
             "linecolor": "white",
             "minorgridcolor": "white",
             "startlinecolor": "#2a3f5f"
            },
            "baxis": {
             "endlinecolor": "#2a3f5f",
             "gridcolor": "white",
             "linecolor": "white",
             "minorgridcolor": "white",
             "startlinecolor": "#2a3f5f"
            },
            "type": "carpet"
           }
          ],
          "choropleth": [
           {
            "colorbar": {
             "outlinewidth": 0,
             "ticks": ""
            },
            "type": "choropleth"
           }
          ],
          "contour": [
           {
            "colorbar": {
             "outlinewidth": 0,
             "ticks": ""
            },
            "colorscale": [
             [
              0,
              "#0d0887"
             ],
             [
              0.1111111111111111,
              "#46039f"
             ],
             [
              0.2222222222222222,
              "#7201a8"
             ],
             [
              0.3333333333333333,
              "#9c179e"
             ],
             [
              0.4444444444444444,
              "#bd3786"
             ],
             [
              0.5555555555555556,
              "#d8576b"
             ],
             [
              0.6666666666666666,
              "#ed7953"
             ],
             [
              0.7777777777777778,
              "#fb9f3a"
             ],
             [
              0.8888888888888888,
              "#fdca26"
             ],
             [
              1,
              "#f0f921"
             ]
            ],
            "type": "contour"
           }
          ],
          "contourcarpet": [
           {
            "colorbar": {
             "outlinewidth": 0,
             "ticks": ""
            },
            "type": "contourcarpet"
           }
          ],
          "heatmap": [
           {
            "colorbar": {
             "outlinewidth": 0,
             "ticks": ""
            },
            "colorscale": [
             [
              0,
              "#0d0887"
             ],
             [
              0.1111111111111111,
              "#46039f"
             ],
             [
              0.2222222222222222,
              "#7201a8"
             ],
             [
              0.3333333333333333,
              "#9c179e"
             ],
             [
              0.4444444444444444,
              "#bd3786"
             ],
             [
              0.5555555555555556,
              "#d8576b"
             ],
             [
              0.6666666666666666,
              "#ed7953"
             ],
             [
              0.7777777777777778,
              "#fb9f3a"
             ],
             [
              0.8888888888888888,
              "#fdca26"
             ],
             [
              1,
              "#f0f921"
             ]
            ],
            "type": "heatmap"
           }
          ],
          "histogram": [
           {
            "marker": {
             "pattern": {
              "fillmode": "overlay",
              "size": 10,
              "solidity": 0.2
             }
            },
            "type": "histogram"
           }
          ],
          "histogram2d": [
           {
            "colorbar": {
             "outlinewidth": 0,
             "ticks": ""
            },
            "colorscale": [
             [
              0,
              "#0d0887"
             ],
             [
              0.1111111111111111,
              "#46039f"
             ],
             [
              0.2222222222222222,
              "#7201a8"
             ],
             [
              0.3333333333333333,
              "#9c179e"
             ],
             [
              0.4444444444444444,
              "#bd3786"
             ],
             [
              0.5555555555555556,
              "#d8576b"
             ],
             [
              0.6666666666666666,
              "#ed7953"
             ],
             [
              0.7777777777777778,
              "#fb9f3a"
             ],
             [
              0.8888888888888888,
              "#fdca26"
             ],
             [
              1,
              "#f0f921"
             ]
            ],
            "type": "histogram2d"
           }
          ],
          "histogram2dcontour": [
           {
            "colorbar": {
             "outlinewidth": 0,
             "ticks": ""
            },
            "colorscale": [
             [
              0,
              "#0d0887"
             ],
             [
              0.1111111111111111,
              "#46039f"
             ],
             [
              0.2222222222222222,
              "#7201a8"
             ],
             [
              0.3333333333333333,
              "#9c179e"
             ],
             [
              0.4444444444444444,
              "#bd3786"
             ],
             [
              0.5555555555555556,
              "#d8576b"
             ],
             [
              0.6666666666666666,
              "#ed7953"
             ],
             [
              0.7777777777777778,
              "#fb9f3a"
             ],
             [
              0.8888888888888888,
              "#fdca26"
             ],
             [
              1,
              "#f0f921"
             ]
            ],
            "type": "histogram2dcontour"
           }
          ],
          "mesh3d": [
           {
            "colorbar": {
             "outlinewidth": 0,
             "ticks": ""
            },
            "type": "mesh3d"
           }
          ],
          "parcoords": [
           {
            "line": {
             "colorbar": {
              "outlinewidth": 0,
              "ticks": ""
             }
            },
            "type": "parcoords"
           }
          ],
          "pie": [
           {
            "automargin": true,
            "type": "pie"
           }
          ],
          "scatter": [
           {
            "fillpattern": {
             "fillmode": "overlay",
             "size": 10,
             "solidity": 0.2
            },
            "type": "scatter"
           }
          ],
          "scatter3d": [
           {
            "line": {
             "colorbar": {
              "outlinewidth": 0,
              "ticks": ""
             }
            },
            "marker": {
             "colorbar": {
              "outlinewidth": 0,
              "ticks": ""
             }
            },
            "type": "scatter3d"
           }
          ],
          "scattercarpet": [
           {
            "marker": {
             "colorbar": {
              "outlinewidth": 0,
              "ticks": ""
             }
            },
            "type": "scattercarpet"
           }
          ],
          "scattergeo": [
           {
            "marker": {
             "colorbar": {
              "outlinewidth": 0,
              "ticks": ""
             }
            },
            "type": "scattergeo"
           }
          ],
          "scattergl": [
           {
            "marker": {
             "colorbar": {
              "outlinewidth": 0,
              "ticks": ""
             }
            },
            "type": "scattergl"
           }
          ],
          "scattermap": [
           {
            "marker": {
             "colorbar": {
              "outlinewidth": 0,
              "ticks": ""
             }
            },
            "type": "scattermap"
           }
          ],
          "scattermapbox": [
           {
            "marker": {
             "colorbar": {
              "outlinewidth": 0,
              "ticks": ""
             }
            },
            "type": "scattermapbox"
           }
          ],
          "scatterpolar": [
           {
            "marker": {
             "colorbar": {
              "outlinewidth": 0,
              "ticks": ""
             }
            },
            "type": "scatterpolar"
           }
          ],
          "scatterpolargl": [
           {
            "marker": {
             "colorbar": {
              "outlinewidth": 0,
              "ticks": ""
             }
            },
            "type": "scatterpolargl"
           }
          ],
          "scatterternary": [
           {
            "marker": {
             "colorbar": {
              "outlinewidth": 0,
              "ticks": ""
             }
            },
            "type": "scatterternary"
           }
          ],
          "surface": [
           {
            "colorbar": {
             "outlinewidth": 0,
             "ticks": ""
            },
            "colorscale": [
             [
              0,
              "#0d0887"
             ],
             [
              0.1111111111111111,
              "#46039f"
             ],
             [
              0.2222222222222222,
              "#7201a8"
             ],
             [
              0.3333333333333333,
              "#9c179e"
             ],
             [
              0.4444444444444444,
              "#bd3786"
             ],
             [
              0.5555555555555556,
              "#d8576b"
             ],
             [
              0.6666666666666666,
              "#ed7953"
             ],
             [
              0.7777777777777778,
              "#fb9f3a"
             ],
             [
              0.8888888888888888,
              "#fdca26"
             ],
             [
              1,
              "#f0f921"
             ]
            ],
            "type": "surface"
           }
          ],
          "table": [
           {
            "cells": {
             "fill": {
              "color": "#EBF0F8"
             },
             "line": {
              "color": "white"
             }
            },
            "header": {
             "fill": {
              "color": "#C8D4E3"
             },
             "line": {
              "color": "white"
             }
            },
            "type": "table"
           }
          ]
         },
         "layout": {
          "annotationdefaults": {
           "arrowcolor": "#2a3f5f",
           "arrowhead": 0,
           "arrowwidth": 1
          },
          "autotypenumbers": "strict",
          "coloraxis": {
           "colorbar": {
            "outlinewidth": 0,
            "ticks": ""
           }
          },
          "colorscale": {
           "diverging": [
            [
             0,
             "#8e0152"
            ],
            [
             0.1,
             "#c51b7d"
            ],
            [
             0.2,
             "#de77ae"
            ],
            [
             0.3,
             "#f1b6da"
            ],
            [
             0.4,
             "#fde0ef"
            ],
            [
             0.5,
             "#f7f7f7"
            ],
            [
             0.6,
             "#e6f5d0"
            ],
            [
             0.7,
             "#b8e186"
            ],
            [
             0.8,
             "#7fbc41"
            ],
            [
             0.9,
             "#4d9221"
            ],
            [
             1,
             "#276419"
            ]
           ],
           "sequential": [
            [
             0,
             "#0d0887"
            ],
            [
             0.1111111111111111,
             "#46039f"
            ],
            [
             0.2222222222222222,
             "#7201a8"
            ],
            [
             0.3333333333333333,
             "#9c179e"
            ],
            [
             0.4444444444444444,
             "#bd3786"
            ],
            [
             0.5555555555555556,
             "#d8576b"
            ],
            [
             0.6666666666666666,
             "#ed7953"
            ],
            [
             0.7777777777777778,
             "#fb9f3a"
            ],
            [
             0.8888888888888888,
             "#fdca26"
            ],
            [
             1,
             "#f0f921"
            ]
           ],
           "sequentialminus": [
            [
             0,
             "#0d0887"
            ],
            [
             0.1111111111111111,
             "#46039f"
            ],
            [
             0.2222222222222222,
             "#7201a8"
            ],
            [
             0.3333333333333333,
             "#9c179e"
            ],
            [
             0.4444444444444444,
             "#bd3786"
            ],
            [
             0.5555555555555556,
             "#d8576b"
            ],
            [
             0.6666666666666666,
             "#ed7953"
            ],
            [
             0.7777777777777778,
             "#fb9f3a"
            ],
            [
             0.8888888888888888,
             "#fdca26"
            ],
            [
             1,
             "#f0f921"
            ]
           ]
          },
          "colorway": [
           "#636efa",
           "#EF553B",
           "#00cc96",
           "#ab63fa",
           "#FFA15A",
           "#19d3f3",
           "#FF6692",
           "#B6E880",
           "#FF97FF",
           "#FECB52"
          ],
          "font": {
           "color": "#2a3f5f"
          },
          "geo": {
           "bgcolor": "white",
           "lakecolor": "white",
           "landcolor": "#E5ECF6",
           "showlakes": true,
           "showland": true,
           "subunitcolor": "white"
          },
          "hoverlabel": {
           "align": "left"
          },
          "hovermode": "closest",
          "mapbox": {
           "style": "light"
          },
          "paper_bgcolor": "white",
          "plot_bgcolor": "#E5ECF6",
          "polar": {
           "angularaxis": {
            "gridcolor": "white",
            "linecolor": "white",
            "ticks": ""
           },
           "bgcolor": "#E5ECF6",
           "radialaxis": {
            "gridcolor": "white",
            "linecolor": "white",
            "ticks": ""
           }
          },
          "scene": {
           "xaxis": {
            "backgroundcolor": "#E5ECF6",
            "gridcolor": "white",
            "gridwidth": 2,
            "linecolor": "white",
            "showbackground": true,
            "ticks": "",
            "zerolinecolor": "white"
           },
           "yaxis": {
            "backgroundcolor": "#E5ECF6",
            "gridcolor": "white",
            "gridwidth": 2,
            "linecolor": "white",
            "showbackground": true,
            "ticks": "",
            "zerolinecolor": "white"
           },
           "zaxis": {
            "backgroundcolor": "#E5ECF6",
            "gridcolor": "white",
            "gridwidth": 2,
            "linecolor": "white",
            "showbackground": true,
            "ticks": "",
            "zerolinecolor": "white"
           }
          },
          "shapedefaults": {
           "line": {
            "color": "#2a3f5f"
           }
          },
          "ternary": {
           "aaxis": {
            "gridcolor": "white",
            "linecolor": "white",
            "ticks": ""
           },
           "baxis": {
            "gridcolor": "white",
            "linecolor": "white",
            "ticks": ""
           },
           "bgcolor": "#E5ECF6",
           "caxis": {
            "gridcolor": "white",
            "linecolor": "white",
            "ticks": ""
           }
          },
          "title": {
           "x": 0.05
          },
          "xaxis": {
           "automargin": true,
           "gridcolor": "white",
           "linecolor": "white",
           "ticks": "",
           "title": {
            "standoff": 15
           },
           "zerolinecolor": "white",
           "zerolinewidth": 2
          },
          "yaxis": {
           "automargin": true,
           "gridcolor": "white",
           "linecolor": "white",
           "ticks": "",
           "title": {
            "standoff": 15
           },
           "zerolinecolor": "white",
           "zerolinewidth": 2
          }
         }
        },
        "title": {
         "text": "Interactive Map: Fraud Rate by Country"
        }
       }
      }
     },
     "metadata": {},
     "output_type": "display_data"
    }
   ],
   "source": [
    "fig.update_layout(\n",
    "    margin=dict(l=0, r=0, t=50, b=0),    # remove extra padding\n",
    "    coloraxis_colorbar=dict(\n",
    "        title=\"Fraud Rate (%)\",\n",
    "        tickformat=\".1f\"\n",
    "    )\n",
    ")\n"
   ]
  },
  {
   "cell_type": "markdown",
   "id": "ec158b6e",
   "metadata": {},
   "source": [
    "Данная интерактивная карта наглядно отображает страны с наибольшим процентым фродовых транзакций в рамках данного набора данных."
   ]
  },
  {
   "cell_type": "code",
   "execution_count": null,
   "id": "add60a15",
   "metadata": {},
   "outputs": [],
   "source": [
    "def plot_country_mixed(country_stats: pd.DataFrame,\n",
    "                       top_n: int = 10,\n",
    "                       figsize: tuple = (12, 6),\n",
    "                       bar_color: str = '#4c72b0',\n",
    "                       line_color: str = '#c44e52'):\n",
    "    \"\"\"\n",
    "    Plot a mixed bar + line chart for country transaction stats.\n",
    "\n",
    "    Parameters\n",
    "    ----------\n",
    "    country_stats : pd.DataFrame\n",
    "        DataFrame with columns:\n",
    "          - 'country'\n",
    "          - 'total_txns'\n",
    "          - 'fraud_rate'\n",
    "    top_n : int, default=10\n",
    "        Number of top countries (by total_txns) to display.\n",
    "    figsize : tuple, default=(12,6)\n",
    "        Figure size.\n",
    "    bar_color : str, default='#4c72b0'\n",
    "        Color for the bar chart.\n",
    "    line_color : str, default='#c44e52'\n",
    "        Color for the fraud_rate line.\n",
    "    \"\"\"\n",
    "    # Select top N by total transactions\n",
    "    df = (country_stats\n",
    "          .sort_values('total_txns', ascending=False)\n",
    "          .head(top_n)\n",
    "          .reset_index(drop=True))\n",
    "    \n",
    "    # Create figure and first axis\n",
    "    fig, ax1 = plt.subplots(figsize=figsize)\n",
    "    \n",
    "    # Bar plot: total transactions\n",
    "    sns.barplot(\n",
    "        x='country', y='total_txns',\n",
    "        data=df, ax=ax1,\n",
    "        color=bar_color\n",
    "    )\n",
    "    ax1.set_ylabel('Total Transactions', color=bar_color, fontsize=12)\n",
    "    ax1.tick_params(axis='y', labelcolor=bar_color)\n",
    "    ax1.set_xticklabels(ax1.get_xticklabels(), rotation=45, ha='right')\n",
    "    \n",
    "    # Second y-axis: fraud rate line\n",
    "    ax2 = ax1.twinx()\n",
    "    sns.lineplot(\n",
    "        x='country', y='fraud_rate',\n",
    "        data=df, ax=ax2,\n",
    "        sort=False,                # keep same order as bars\n",
    "        marker='o', linewidth=2.5,\n",
    "        color=line_color\n",
    "    )\n",
    "    ax2.set_ylabel('Fraud Rate (%)', color=line_color, fontsize=12)\n",
    "    ax2.tick_params(axis='y', labelcolor=line_color)\n",
    "    \n",
    "    # Title and layout\n",
    "    plt.title(f'Top {top_n} Countries: Transactions vs Fraud Rate', fontsize=14)\n",
    "    plt.tight_layout()\n",
    "    plt.show()\n"
   ]
  },
  {
   "cell_type": "code",
   "execution_count": 76,
   "id": "d375feab",
   "metadata": {},
   "outputs": [
    {
     "name": "stderr",
     "output_type": "stream",
     "text": [
      "/var/folders/p2/skh823fd5t5fcl9_fbmxvw24rb6_10/T/ipykernel_64255/689865979.py:42: UserWarning:\n",
      "\n",
      "set_ticklabels() should only be used with a fixed number of ticks, i.e. after set_ticks() or using a FixedLocator.\n",
      "\n"
     ]
    },
    {
     "data": {
      "image/png": "[encoded data removed]",
      "text/plain": [
       "<Figure size 1200x600 with 2 Axes>"
      ]
     },
     "metadata": {},
     "output_type": "display_data"
    }
   ],
   "source": [
    "plot_country_mixed(country_stats, top_n = len(uniq_countries))"
   ]
  },
  {
   "cell_type": "code",
   "execution_count": 79,
   "id": "7afcb0cd",
   "metadata": {},
   "outputs": [
    {
     "data": {
      "text/plain": [
       "['Mexico', 'Russia', 'Brazil', 'Nigeria']"
      ]
     },
     "execution_count": 79,
     "metadata": {},
     "output_type": "execute_result"
    }
   ],
   "source": [
    "top_fraud_countries = country_stats.sort_values(['fraud_rate'], ascending=False)['country'].to_list()[:4]\n",
    "top_fraud_countries"
   ]
  },
  {
   "cell_type": "markdown",
   "id": "a630e767",
   "metadata": {},
   "source": [
    "Эта смешанная диграмма хорошо подчеркивает, что страны делятся на две группы:\n",
    "\n",
    "1. Страны с наибольшим общим кол-вом транзакций и с высоким процентом фрода\n",
    "\n",
    "2. Чуть менее представленные, но при этом так же примерно в равной степени, страны с относительно низким процентом фрода\n",
    "\n",
    "\n",
    "Так же можно предположить, что датасет имеет смещение в сторону развивающихся стран, а не развитых, так как в данном наборе данных большее кол-во транзакци относится к странам латинской америки, африки и России.\n",
    "\n",
    "При этом исследование[1] World Bank Group за 2025ый год утверждает о том, что значительный объем всех транзакций принадлежит развитым странам, в особенности странам европы, UK и USA, а также Китай.\n",
    "<br>[1] https://www.worldbank.org/en/publication/globalfindex"
   ]
  },
  {
   "cell_type": "markdown",
   "id": "b39c6169",
   "metadata": {},
   "source": [
    "#### Анализ по типу вендора, ```vendor_type```"
   ]
  },
  {
   "cell_type": "code",
   "execution_count": 80,
   "id": "71252d55",
   "metadata": {},
   "outputs": [],
   "source": [
    "# Group by vendor_type\n",
    "vt_stats = (\n",
    "    transaction_fraud_data_processed\n",
    "    .groupby('vendor_type', as_index=False)\n",
    "    .agg(\n",
    "        total_txns=('custom_transaction_id','count'),\n",
    "        fraud_txns=('is_fraud','sum')\n",
    "    )\n",
    ")\n",
    "\n",
    "vt_stats_in_fraud_countries = (\n",
    "    transaction_fraud_data_processed[transaction_fraud_data_processed['country'].isin(top_fraud_countries)]\n",
    "    .groupby('vendor_type', as_index=False)\n",
    "    .agg(\n",
    "        total_txns=('custom_transaction_id','count'),\n",
    "        fraud_txns=('is_fraud','sum')\n",
    "    )\n",
    ")\n",
    "\n",
    "# Calculate fraud rate and transaction rate as a percentage\n",
    "vt_stats['fraud_rate'] = vt_stats['fraud_txns'] / vt_stats['total_txns'] * 100\n",
    "vt_stats['txns_rate'] = vt_stats['total_txns'] / len(transaction_fraud_data_processed) * 100\n",
    "\n",
    "vt_stats_in_fraud_countries['fraud_rate'] = vt_stats_in_fraud_countries['fraud_txns'] / vt_stats_in_fraud_countries['total_txns'] * 100\n",
    "vt_stats_in_fraud_countries['txns_rate'] = vt_stats_in_fraud_countries['total_txns'] / len(transaction_fraud_data_processed[transaction_fraud_data_processed['country'].isin(top_fraud_countries)]) * 100"
   ]
  },
  {
   "cell_type": "markdown",
   "id": "5a30bbea",
   "metadata": {},
   "source": [
    "Топ 10 типов вендоров по % фродовых транзакций:"
   ]
  },
  {
   "cell_type": "code",
   "execution_count": 96,
   "id": "cb648292",
   "metadata": {},
   "outputs": [
    {
     "data": {
      "text/html": [
       "<div>\n",
       "<style scoped>\n",
       "    .dataframe tbody tr th:only-of-type {\n",
       "        vertical-align: middle;\n",
       "    }\n",
       "\n",
       "    .dataframe tbody tr th {\n",
       "        vertical-align: top;\n",
       "    }\n",
       "\n",
       "    .dataframe thead th {\n",
       "        text-align: right;\n",
       "    }\n",
       "</style>\n",
       "<table border=\"1\" class=\"dataframe\">\n",
       "  <thead>\n",
       "    <tr style=\"text-align: right;\">\n",
       "      <th></th>\n",
       "      <th>vendor_type</th>\n",
       "      <th>total_txns</th>\n",
       "      <th>fraud_txns</th>\n",
       "      <th>fraud_rate</th>\n",
       "      <th>txns_rate</th>\n",
       "    </tr>\n",
       "  </thead>\n",
       "  <tbody>\n",
       "    <tr>\n",
       "      <th>16</th>\n",
       "      <td>transport</td>\n",
       "      <td>233977</td>\n",
       "      <td>47069</td>\n",
       "      <td>20.116935</td>\n",
       "      <td>3.126461</td>\n",
       "    </tr>\n",
       "    <tr>\n",
       "      <th>4</th>\n",
       "      <td>fast_food</td>\n",
       "      <td>312805</td>\n",
       "      <td>62786</td>\n",
       "      <td>20.071930</td>\n",
       "      <td>4.179781</td>\n",
       "    </tr>\n",
       "    <tr>\n",
       "      <th>0</th>\n",
       "      <td>airlines</td>\n",
       "      <td>233476</td>\n",
       "      <td>46820</td>\n",
       "      <td>20.053453</td>\n",
       "      <td>3.119766</td>\n",
       "    </tr>\n",
       "    <tr>\n",
       "      <th>12</th>\n",
       "      <td>physical</td>\n",
       "      <td>935039</td>\n",
       "      <td>187200</td>\n",
       "      <td>20.020555</td>\n",
       "      <td>12.494231</td>\n",
       "    </tr>\n",
       "    <tr>\n",
       "      <th>1</th>\n",
       "      <td>booking</td>\n",
       "      <td>234026</td>\n",
       "      <td>46846</td>\n",
       "      <td>20.017434</td>\n",
       "      <td>3.127115</td>\n",
       "    </tr>\n",
       "    <tr>\n",
       "      <th>3</th>\n",
       "      <td>events</td>\n",
       "      <td>312598</td>\n",
       "      <td>62525</td>\n",
       "      <td>20.001727</td>\n",
       "      <td>4.177015</td>\n",
       "    </tr>\n",
       "    <tr>\n",
       "      <th>8</th>\n",
       "      <td>major</td>\n",
       "      <td>467499</td>\n",
       "      <td>93416</td>\n",
       "      <td>19.982075</td>\n",
       "      <td>6.246841</td>\n",
       "    </tr>\n",
       "    <tr>\n",
       "      <th>11</th>\n",
       "      <td>pharmacy</td>\n",
       "      <td>468377</td>\n",
       "      <td>93569</td>\n",
       "      <td>19.977283</td>\n",
       "      <td>6.258574</td>\n",
       "    </tr>\n",
       "    <tr>\n",
       "      <th>15</th>\n",
       "      <td>supplies</td>\n",
       "      <td>466765</td>\n",
       "      <td>93240</td>\n",
       "      <td>19.975791</td>\n",
       "      <td>6.237034</td>\n",
       "    </tr>\n",
       "    <tr>\n",
       "      <th>7</th>\n",
       "      <td>local</td>\n",
       "      <td>467902</td>\n",
       "      <td>93413</td>\n",
       "      <td>19.964223</td>\n",
       "      <td>6.252226</td>\n",
       "    </tr>\n",
       "  </tbody>\n",
       "</table>\n",
       "</div>"
      ],
      "text/plain": [
       "   vendor_type  total_txns  fraud_txns  fraud_rate  txns_rate\n",
       "16   transport      233977       47069   20.116935   3.126461\n",
       "4    fast_food      312805       62786   20.071930   4.179781\n",
       "0     airlines      233476       46820   20.053453   3.119766\n",
       "12    physical      935039      187200   20.020555  12.494231\n",
       "1      booking      234026       46846   20.017434   3.127115\n",
       "3       events      312598       62525   20.001727   4.177015\n",
       "8        major      467499       93416   19.982075   6.246841\n",
       "11    pharmacy      468377       93569   19.977283   6.258574\n",
       "15    supplies      466765       93240   19.975791   6.237034\n",
       "7        local      467902       93413   19.964223   6.252226"
      ]
     },
     "execution_count": 96,
     "metadata": {},
     "output_type": "execute_result"
    }
   ],
   "source": [
    "vt_stats.sort_values(['fraud_rate'], ascending=False).head(10)"
   ]
  },
  {
   "cell_type": "markdown",
   "id": "58da262d",
   "metadata": {},
   "source": [
    "Тоже самое, но в разере стран с наибольшим процентом фрода:"
   ]
  },
  {
   "cell_type": "code",
   "execution_count": 94,
   "id": "fbfa986c",
   "metadata": {},
   "outputs": [
    {
     "data": {
      "text/html": [
       "<div>\n",
       "<style scoped>\n",
       "    .dataframe tbody tr th:only-of-type {\n",
       "        vertical-align: middle;\n",
       "    }\n",
       "\n",
       "    .dataframe tbody tr th {\n",
       "        vertical-align: top;\n",
       "    }\n",
       "\n",
       "    .dataframe thead th {\n",
       "        text-align: right;\n",
       "    }\n",
       "</style>\n",
       "<table border=\"1\" class=\"dataframe\">\n",
       "  <thead>\n",
       "    <tr style=\"text-align: right;\">\n",
       "      <th></th>\n",
       "      <th>vendor_type</th>\n",
       "      <th>total_txns</th>\n",
       "      <th>fraud_txns</th>\n",
       "      <th>fraud_rate</th>\n",
       "      <th>txns_rate</th>\n",
       "    </tr>\n",
       "  </thead>\n",
       "  <tbody>\n",
       "    <tr>\n",
       "      <th>3</th>\n",
       "      <td>events</td>\n",
       "      <td>135166</td>\n",
       "      <td>50231</td>\n",
       "      <td>37.162452</td>\n",
       "      <td>4.179434</td>\n",
       "    </tr>\n",
       "    <tr>\n",
       "      <th>16</th>\n",
       "      <td>transport</td>\n",
       "      <td>101461</td>\n",
       "      <td>37680</td>\n",
       "      <td>37.137422</td>\n",
       "      <td>3.137250</td>\n",
       "    </tr>\n",
       "    <tr>\n",
       "      <th>11</th>\n",
       "      <td>pharmacy</td>\n",
       "      <td>202080</td>\n",
       "      <td>74882</td>\n",
       "      <td>37.055622</td>\n",
       "      <td>6.248466</td>\n",
       "    </tr>\n",
       "    <tr>\n",
       "      <th>12</th>\n",
       "      <td>physical</td>\n",
       "      <td>404576</td>\n",
       "      <td>149799</td>\n",
       "      <td>37.026171</td>\n",
       "      <td>12.509794</td>\n",
       "    </tr>\n",
       "    <tr>\n",
       "      <th>1</th>\n",
       "      <td>booking</td>\n",
       "      <td>100787</td>\n",
       "      <td>37316</td>\n",
       "      <td>37.024616</td>\n",
       "      <td>3.116410</td>\n",
       "    </tr>\n",
       "    <tr>\n",
       "      <th>13</th>\n",
       "      <td>premium</td>\n",
       "      <td>134888</td>\n",
       "      <td>49881</td>\n",
       "      <td>36.979568</td>\n",
       "      <td>4.170838</td>\n",
       "    </tr>\n",
       "    <tr>\n",
       "      <th>10</th>\n",
       "      <td>online</td>\n",
       "      <td>605510</td>\n",
       "      <td>223811</td>\n",
       "      <td>36.962395</td>\n",
       "      <td>18.722825</td>\n",
       "    </tr>\n",
       "    <tr>\n",
       "      <th>4</th>\n",
       "      <td>fast_food</td>\n",
       "      <td>135243</td>\n",
       "      <td>49975</td>\n",
       "      <td>36.952005</td>\n",
       "      <td>4.181815</td>\n",
       "    </tr>\n",
       "    <tr>\n",
       "      <th>15</th>\n",
       "      <td>supplies</td>\n",
       "      <td>202156</td>\n",
       "      <td>74688</td>\n",
       "      <td>36.945725</td>\n",
       "      <td>6.250816</td>\n",
       "    </tr>\n",
       "    <tr>\n",
       "      <th>7</th>\n",
       "      <td>local</td>\n",
       "      <td>202130</td>\n",
       "      <td>74677</td>\n",
       "      <td>36.945035</td>\n",
       "      <td>6.250012</td>\n",
       "    </tr>\n",
       "  </tbody>\n",
       "</table>\n",
       "</div>"
      ],
      "text/plain": [
       "   vendor_type  total_txns  fraud_txns  fraud_rate  txns_rate\n",
       "3       events      135166       50231   37.162452   4.179434\n",
       "16   transport      101461       37680   37.137422   3.137250\n",
       "11    pharmacy      202080       74882   37.055622   6.248466\n",
       "12    physical      404576      149799   37.026171  12.509794\n",
       "1      booking      100787       37316   37.024616   3.116410\n",
       "13     premium      134888       49881   36.979568   4.170838\n",
       "10      online      605510      223811   36.962395  18.722825\n",
       "4    fast_food      135243       49975   36.952005   4.181815\n",
       "15    supplies      202156       74688   36.945725   6.250816\n",
       "7        local      202130       74677   36.945035   6.250012"
      ]
     },
     "execution_count": 94,
     "metadata": {},
     "output_type": "execute_result"
    }
   ],
   "source": [
    "vt_stats_in_fraud_countries.sort_values(['fraud_rate'], ascending=False).head(10)"
   ]
  },
  {
   "cell_type": "markdown",
   "id": "a45f697e",
   "metadata": {},
   "source": [
    "Топ 10 типов вендоров по % от общего кол-ва транзакций:"
   ]
  },
  {
   "cell_type": "code",
   "execution_count": 83,
   "id": "1424fa4e",
   "metadata": {},
   "outputs": [
    {
     "data": {
      "text/html": [
       "<div>\n",
       "<style scoped>\n",
       "    .dataframe tbody tr th:only-of-type {\n",
       "        vertical-align: middle;\n",
       "    }\n",
       "\n",
       "    .dataframe tbody tr th {\n",
       "        vertical-align: top;\n",
       "    }\n",
       "\n",
       "    .dataframe thead th {\n",
       "        text-align: right;\n",
       "    }\n",
       "</style>\n",
       "<table border=\"1\" class=\"dataframe\">\n",
       "  <thead>\n",
       "    <tr style=\"text-align: right;\">\n",
       "      <th></th>\n",
       "      <th>vendor_type</th>\n",
       "      <th>total_txns</th>\n",
       "      <th>fraud_txns</th>\n",
       "      <th>fraud_rate</th>\n",
       "      <th>txns_rate</th>\n",
       "    </tr>\n",
       "  </thead>\n",
       "  <tbody>\n",
       "    <tr>\n",
       "      <th>10</th>\n",
       "      <td>online</td>\n",
       "      <td>1401650</td>\n",
       "      <td>279363</td>\n",
       "      <td>19.931010</td>\n",
       "      <td>18.729207</td>\n",
       "    </tr>\n",
       "    <tr>\n",
       "      <th>12</th>\n",
       "      <td>physical</td>\n",
       "      <td>935039</td>\n",
       "      <td>187200</td>\n",
       "      <td>20.020555</td>\n",
       "      <td>12.494231</td>\n",
       "    </tr>\n",
       "    <tr>\n",
       "      <th>9</th>\n",
       "      <td>medical</td>\n",
       "      <td>468393</td>\n",
       "      <td>93200</td>\n",
       "      <td>19.897821</td>\n",
       "      <td>6.258787</td>\n",
       "    </tr>\n",
       "    <tr>\n",
       "      <th>11</th>\n",
       "      <td>pharmacy</td>\n",
       "      <td>468377</td>\n",
       "      <td>93569</td>\n",
       "      <td>19.977283</td>\n",
       "      <td>6.258574</td>\n",
       "    </tr>\n",
       "    <tr>\n",
       "      <th>7</th>\n",
       "      <td>local</td>\n",
       "      <td>467902</td>\n",
       "      <td>93413</td>\n",
       "      <td>19.964223</td>\n",
       "      <td>6.252226</td>\n",
       "    </tr>\n",
       "    <tr>\n",
       "      <th>8</th>\n",
       "      <td>major</td>\n",
       "      <td>467499</td>\n",
       "      <td>93416</td>\n",
       "      <td>19.982075</td>\n",
       "      <td>6.246841</td>\n",
       "    </tr>\n",
       "    <tr>\n",
       "      <th>15</th>\n",
       "      <td>supplies</td>\n",
       "      <td>466765</td>\n",
       "      <td>93240</td>\n",
       "      <td>19.975791</td>\n",
       "      <td>6.237034</td>\n",
       "    </tr>\n",
       "    <tr>\n",
       "      <th>4</th>\n",
       "      <td>fast_food</td>\n",
       "      <td>312805</td>\n",
       "      <td>62786</td>\n",
       "      <td>20.071930</td>\n",
       "      <td>4.179781</td>\n",
       "    </tr>\n",
       "    <tr>\n",
       "      <th>3</th>\n",
       "      <td>events</td>\n",
       "      <td>312598</td>\n",
       "      <td>62525</td>\n",
       "      <td>20.001727</td>\n",
       "      <td>4.177015</td>\n",
       "    </tr>\n",
       "    <tr>\n",
       "      <th>14</th>\n",
       "      <td>streaming</td>\n",
       "      <td>312091</td>\n",
       "      <td>62206</td>\n",
       "      <td>19.932007</td>\n",
       "      <td>4.170240</td>\n",
       "    </tr>\n",
       "  </tbody>\n",
       "</table>\n",
       "</div>"
      ],
      "text/plain": [
       "   vendor_type  total_txns  fraud_txns  fraud_rate  txns_rate\n",
       "10      online     1401650      279363   19.931010  18.729207\n",
       "12    physical      935039      187200   20.020555  12.494231\n",
       "9      medical      468393       93200   19.897821   6.258787\n",
       "11    pharmacy      468377       93569   19.977283   6.258574\n",
       "7        local      467902       93413   19.964223   6.252226\n",
       "8        major      467499       93416   19.982075   6.246841\n",
       "15    supplies      466765       93240   19.975791   6.237034\n",
       "4    fast_food      312805       62786   20.071930   4.179781\n",
       "3       events      312598       62525   20.001727   4.177015\n",
       "14   streaming      312091       62206   19.932007   4.170240"
      ]
     },
     "execution_count": 83,
     "metadata": {},
     "output_type": "execute_result"
    }
   ],
   "source": [
    "vt_stats.sort_values(['txns_rate'], ascending=False).head(10)"
   ]
  },
  {
   "cell_type": "markdown",
   "id": "5bc76886",
   "metadata": {},
   "source": [
    "Тоже самое, но в разере стран с наибольшим процентом фрода:"
   ]
  },
  {
   "cell_type": "code",
   "execution_count": 84,
   "id": "0bc35426",
   "metadata": {},
   "outputs": [
    {
     "data": {
      "text/html": [
       "<div>\n",
       "<style scoped>\n",
       "    .dataframe tbody tr th:only-of-type {\n",
       "        vertical-align: middle;\n",
       "    }\n",
       "\n",
       "    .dataframe tbody tr th {\n",
       "        vertical-align: top;\n",
       "    }\n",
       "\n",
       "    .dataframe thead th {\n",
       "        text-align: right;\n",
       "    }\n",
       "</style>\n",
       "<table border=\"1\" class=\"dataframe\">\n",
       "  <thead>\n",
       "    <tr style=\"text-align: right;\">\n",
       "      <th></th>\n",
       "      <th>vendor_type</th>\n",
       "      <th>total_txns</th>\n",
       "      <th>fraud_txns</th>\n",
       "      <th>fraud_rate</th>\n",
       "      <th>txns_rate</th>\n",
       "    </tr>\n",
       "  </thead>\n",
       "  <tbody>\n",
       "    <tr>\n",
       "      <th>10</th>\n",
       "      <td>online</td>\n",
       "      <td>605510</td>\n",
       "      <td>223811</td>\n",
       "      <td>36.962395</td>\n",
       "      <td>18.722825</td>\n",
       "    </tr>\n",
       "    <tr>\n",
       "      <th>12</th>\n",
       "      <td>physical</td>\n",
       "      <td>404576</td>\n",
       "      <td>149799</td>\n",
       "      <td>37.026171</td>\n",
       "      <td>12.509794</td>\n",
       "    </tr>\n",
       "    <tr>\n",
       "      <th>8</th>\n",
       "      <td>major</td>\n",
       "      <td>202258</td>\n",
       "      <td>74607</td>\n",
       "      <td>36.887045</td>\n",
       "      <td>6.253969</td>\n",
       "    </tr>\n",
       "    <tr>\n",
       "      <th>15</th>\n",
       "      <td>supplies</td>\n",
       "      <td>202156</td>\n",
       "      <td>74688</td>\n",
       "      <td>36.945725</td>\n",
       "      <td>6.250816</td>\n",
       "    </tr>\n",
       "    <tr>\n",
       "      <th>7</th>\n",
       "      <td>local</td>\n",
       "      <td>202130</td>\n",
       "      <td>74677</td>\n",
       "      <td>36.945035</td>\n",
       "      <td>6.250012</td>\n",
       "    </tr>\n",
       "    <tr>\n",
       "      <th>11</th>\n",
       "      <td>pharmacy</td>\n",
       "      <td>202080</td>\n",
       "      <td>74882</td>\n",
       "      <td>37.055622</td>\n",
       "      <td>6.248466</td>\n",
       "    </tr>\n",
       "    <tr>\n",
       "      <th>9</th>\n",
       "      <td>medical</td>\n",
       "      <td>201835</td>\n",
       "      <td>74422</td>\n",
       "      <td>36.872693</td>\n",
       "      <td>6.240890</td>\n",
       "    </tr>\n",
       "    <tr>\n",
       "      <th>4</th>\n",
       "      <td>fast_food</td>\n",
       "      <td>135243</td>\n",
       "      <td>49975</td>\n",
       "      <td>36.952005</td>\n",
       "      <td>4.181815</td>\n",
       "    </tr>\n",
       "    <tr>\n",
       "      <th>3</th>\n",
       "      <td>events</td>\n",
       "      <td>135166</td>\n",
       "      <td>50231</td>\n",
       "      <td>37.162452</td>\n",
       "      <td>4.179434</td>\n",
       "    </tr>\n",
       "    <tr>\n",
       "      <th>13</th>\n",
       "      <td>premium</td>\n",
       "      <td>134888</td>\n",
       "      <td>49881</td>\n",
       "      <td>36.979568</td>\n",
       "      <td>4.170838</td>\n",
       "    </tr>\n",
       "  </tbody>\n",
       "</table>\n",
       "</div>"
      ],
      "text/plain": [
       "   vendor_type  total_txns  fraud_txns  fraud_rate  txns_rate\n",
       "10      online      605510      223811   36.962395  18.722825\n",
       "12    physical      404576      149799   37.026171  12.509794\n",
       "8        major      202258       74607   36.887045   6.253969\n",
       "15    supplies      202156       74688   36.945725   6.250816\n",
       "7        local      202130       74677   36.945035   6.250012\n",
       "11    pharmacy      202080       74882   37.055622   6.248466\n",
       "9      medical      201835       74422   36.872693   6.240890\n",
       "4    fast_food      135243       49975   36.952005   4.181815\n",
       "3       events      135166       50231   37.162452   4.179434\n",
       "13     premium      134888       49881   36.979568   4.170838"
      ]
     },
     "execution_count": 84,
     "metadata": {},
     "output_type": "execute_result"
    }
   ],
   "source": [
    "vt_stats_in_fraud_countries.sort_values(['txns_rate'], ascending=False).head(10)"
   ]
  },
  {
   "cell_type": "code",
   "execution_count": 100,
   "id": "40091cb8",
   "metadata": {},
   "outputs": [],
   "source": [
    "def compare_vendor_type_scatter2(vt_all, vt_fraud_ctrs,\n",
    "                                figsize=(14, 6),\n",
    "                                palette=\"tab20\"):\n",
    "    # Get list of vendor_types and a matching color palette\n",
    "    vendor_types = vt_all['vendor_type'].unique()\n",
    "    colors = sns.color_palette(palette, len(vendor_types))\n",
    "    pal = dict(zip(vendor_types, colors))\n",
    "    \n",
    "    fig, axes = plt.subplots(1, 2, figsize=figsize, sharey=True)\n",
    "    for ax, df, title in zip(\n",
    "        axes,\n",
    "        [vt_all, vt_fraud_ctrs],\n",
    "        [\"All Countries\", \"Top Fraud Countries\"]\n",
    "    ):\n",
    "        sns.scatterplot(\n",
    "            data=df,\n",
    "            x=\"total_txns\", y=\"fraud_rate\",\n",
    "            hue=\"vendor_type\", palette=pal,\n",
    "            s=100, ax=ax,\n",
    "            edgecolor=\"w\", linewidth=0.5,\n",
    "            legend=False        # <-- turn off per-axis legend\n",
    "        )\n",
    "        ax.set_title(title, fontsize=14)\n",
    "        ax.set_xlabel(\"Total Transactions\", fontsize=12)\n",
    "        ax.set_ylabel(\"Fraud Rate (%)\", fontsize=12)\n",
    "        ax.xaxis.set_major_formatter(mtick.StrMethodFormatter(\"{x:,.0f}\"))\n",
    "        ax.xaxis.set_tick_params(rotation=45)\n",
    "        if ax is axes[1]:\n",
    "            ax.yaxis.set_ticks_position(\"right\")\n",
    "            ax.yaxis.set_label_position(\"right\")\n",
    "            ax.yaxis.set_major_formatter(mtick.StrMethodFormatter(\"{x:.0f}%\"))\n",
    "        else:\n",
    "            ax.yaxis.set_major_formatter(mtick.StrMethodFormatter(\"{x:.0f}\"))\n",
    "    \n",
    "    # Build a single legend at the bottom\n",
    "    handles = [\n",
    "        Line2D([0], [0], marker=\"o\", color=\"w\",\n",
    "               markerfacecolor=pal[vt], markersize=8)\n",
    "        for vt in vendor_types\n",
    "    ]\n",
    "    fig.legend(\n",
    "        handles, vendor_types,\n",
    "        title=\"Vendor Type\",\n",
    "        loc=\"lower center\",\n",
    "        ncol=5,\n",
    "        frameon=False,\n",
    "        bbox_to_anchor=(0.5, -0.05)\n",
    "    )\n",
    "    \n",
    "    plt.suptitle(\"Vendor Type: Volume vs Fraud Rate\", fontsize=16)\n",
    "    plt.tight_layout(rect=[0, 0.03, 1, 0.95])\n",
    "    plt.show()"
   ]
  },
  {
   "cell_type": "code",
   "execution_count": 103,
   "id": "15f38694",
   "metadata": {},
   "outputs": [
    {
     "data": {
      "image/png": "[encoded data removed]",
      "text/plain": [
       "<Figure size 2000x1000 with 2 Axes>"
      ]
     },
     "metadata": {},
     "output_type": "display_data"
    }
   ],
   "source": [
    "compare_vendor_type_scatter2(vt_stats, vt_stats_in_fraud_countries, figsize=(20, 10))"
   ]
  },
  {
   "cell_type": "markdown",
   "id": "716cbe5e",
   "metadata": {},
   "source": [
    "Данная диаграмма рассеяния демонстриурет неочевидный результат.\n",
    "\n",
    "По кол-ву транзакций в целом, можно выделить два одназначных лидера: online и physical.\n",
    "<br> Но, что интересно, % фродовых транзакций распределен по типам вендоров равномерно.\n",
    "<br>Такое распределение выглдяит не очень естесвенно."
   ]
  },
  {
   "cell_type": "markdown",
   "id": "58cbd103",
   "metadata": {},
   "source": [
    "#### Анализ сумм транзакций, ```amount_usd```"
   ]
  },
  {
   "cell_type": "markdown",
   "id": "17ef78e0",
   "metadata": {},
   "source": [
    "Посмторим на топ 20 самых больших транзакций среди всех:"
   ]
  },
  {
   "cell_type": "code",
   "execution_count": 105,
   "id": "88af2640",
   "metadata": {},
   "outputs": [
    {
     "data": {
      "text/html": [
       "<div>\n",
       "<style scoped>\n",
       "    .dataframe tbody tr th:only-of-type {\n",
       "        vertical-align: middle;\n",
       "    }\n",
       "\n",
       "    .dataframe tbody tr th {\n",
       "        vertical-align: top;\n",
       "    }\n",
       "\n",
       "    .dataframe thead th {\n",
       "        text-align: right;\n",
       "    }\n",
       "</style>\n",
       "<table border=\"1\" class=\"dataframe\">\n",
       "  <thead>\n",
       "    <tr style=\"text-align: right;\">\n",
       "      <th></th>\n",
       "      <th>transaction_id</th>\n",
       "      <th>customer_id</th>\n",
       "      <th>amount_usd</th>\n",
       "      <th>country</th>\n",
       "      <th>vendor_type</th>\n",
       "      <th>is_fraud</th>\n",
       "    </tr>\n",
       "  </thead>\n",
       "  <tbody>\n",
       "    <tr>\n",
       "      <th>2931774</th>\n",
       "      <td>TX_33de8275</td>\n",
       "      <td>CUST_84744</td>\n",
       "      <td>15781.540993</td>\n",
       "      <td>Mexico</td>\n",
       "      <td>booking</td>\n",
       "      <td>True</td>\n",
       "    </tr>\n",
       "    <tr>\n",
       "      <th>1730096</th>\n",
       "      <td>TX_e4a38519</td>\n",
       "      <td>CUST_61661</td>\n",
       "      <td>15757.587128</td>\n",
       "      <td>Mexico</td>\n",
       "      <td>booking</td>\n",
       "      <td>True</td>\n",
       "    </tr>\n",
       "    <tr>\n",
       "      <th>1953489</th>\n",
       "      <td>TX_14d04f46</td>\n",
       "      <td>CUST_91532</td>\n",
       "      <td>15720.078490</td>\n",
       "      <td>Mexico</td>\n",
       "      <td>booking</td>\n",
       "      <td>True</td>\n",
       "    </tr>\n",
       "    <tr>\n",
       "      <th>208083</th>\n",
       "      <td>TX_8a13a5a6</td>\n",
       "      <td>CUST_58337</td>\n",
       "      <td>15693.767745</td>\n",
       "      <td>Singapore</td>\n",
       "      <td>booking</td>\n",
       "      <td>True</td>\n",
       "    </tr>\n",
       "    <tr>\n",
       "      <th>3402759</th>\n",
       "      <td>TX_33105936</td>\n",
       "      <td>CUST_52188</td>\n",
       "      <td>15682.188327</td>\n",
       "      <td>Singapore</td>\n",
       "      <td>booking</td>\n",
       "      <td>True</td>\n",
       "    </tr>\n",
       "    <tr>\n",
       "      <th>4116687</th>\n",
       "      <td>TX_52d49192</td>\n",
       "      <td>CUST_34751</td>\n",
       "      <td>15668.539655</td>\n",
       "      <td>Singapore</td>\n",
       "      <td>booking</td>\n",
       "      <td>True</td>\n",
       "    </tr>\n",
       "    <tr>\n",
       "      <th>3482562</th>\n",
       "      <td>TX_3e010d82</td>\n",
       "      <td>CUST_62056</td>\n",
       "      <td>15641.360167</td>\n",
       "      <td>Mexico</td>\n",
       "      <td>booking</td>\n",
       "      <td>True</td>\n",
       "    </tr>\n",
       "    <tr>\n",
       "      <th>3165906</th>\n",
       "      <td>TX_ef261221</td>\n",
       "      <td>CUST_54779</td>\n",
       "      <td>15640.579675</td>\n",
       "      <td>Singapore</td>\n",
       "      <td>booking</td>\n",
       "      <td>True</td>\n",
       "    </tr>\n",
       "    <tr>\n",
       "      <th>2184804</th>\n",
       "      <td>TX_684fe19a</td>\n",
       "      <td>CUST_56683</td>\n",
       "      <td>15634.910798</td>\n",
       "      <td>Mexico</td>\n",
       "      <td>booking</td>\n",
       "      <td>True</td>\n",
       "    </tr>\n",
       "    <tr>\n",
       "      <th>1800272</th>\n",
       "      <td>TX_14459b5d</td>\n",
       "      <td>CUST_57338</td>\n",
       "      <td>15609.087610</td>\n",
       "      <td>Mexico</td>\n",
       "      <td>booking</td>\n",
       "      <td>True</td>\n",
       "    </tr>\n",
       "    <tr>\n",
       "      <th>2425581</th>\n",
       "      <td>TX_426031f4</td>\n",
       "      <td>CUST_56674</td>\n",
       "      <td>15586.171669</td>\n",
       "      <td>Mexico</td>\n",
       "      <td>booking</td>\n",
       "      <td>True</td>\n",
       "    </tr>\n",
       "    <tr>\n",
       "      <th>2920898</th>\n",
       "      <td>TX_2b36b1f1</td>\n",
       "      <td>CUST_23199</td>\n",
       "      <td>15577.448293</td>\n",
       "      <td>Mexico</td>\n",
       "      <td>booking</td>\n",
       "      <td>True</td>\n",
       "    </tr>\n",
       "    <tr>\n",
       "      <th>1654539</th>\n",
       "      <td>TX_c8418468</td>\n",
       "      <td>CUST_35903</td>\n",
       "      <td>15551.611216</td>\n",
       "      <td>Mexico</td>\n",
       "      <td>booking</td>\n",
       "      <td>True</td>\n",
       "    </tr>\n",
       "    <tr>\n",
       "      <th>1464685</th>\n",
       "      <td>TX_388e76fd</td>\n",
       "      <td>CUST_47146</td>\n",
       "      <td>15551.500766</td>\n",
       "      <td>Mexico</td>\n",
       "      <td>booking</td>\n",
       "      <td>True</td>\n",
       "    </tr>\n",
       "    <tr>\n",
       "      <th>3205043</th>\n",
       "      <td>TX_c6dfc521</td>\n",
       "      <td>CUST_47483</td>\n",
       "      <td>15551.463842</td>\n",
       "      <td>Mexico</td>\n",
       "      <td>booking</td>\n",
       "      <td>True</td>\n",
       "    </tr>\n",
       "    <tr>\n",
       "      <th>3159214</th>\n",
       "      <td>TX_5ad5fd0d</td>\n",
       "      <td>CUST_78020</td>\n",
       "      <td>15544.818154</td>\n",
       "      <td>Mexico</td>\n",
       "      <td>booking</td>\n",
       "      <td>True</td>\n",
       "    </tr>\n",
       "    <tr>\n",
       "      <th>1687463</th>\n",
       "      <td>TX_9269dd17</td>\n",
       "      <td>CUST_89677</td>\n",
       "      <td>15524.332197</td>\n",
       "      <td>Mexico</td>\n",
       "      <td>booking</td>\n",
       "      <td>True</td>\n",
       "    </tr>\n",
       "    <tr>\n",
       "      <th>1454790</th>\n",
       "      <td>TX_3b865ccb</td>\n",
       "      <td>CUST_27238</td>\n",
       "      <td>15519.227056</td>\n",
       "      <td>Singapore</td>\n",
       "      <td>booking</td>\n",
       "      <td>True</td>\n",
       "    </tr>\n",
       "    <tr>\n",
       "      <th>2752232</th>\n",
       "      <td>TX_99d89f2a</td>\n",
       "      <td>CUST_23963</td>\n",
       "      <td>15511.765541</td>\n",
       "      <td>Singapore</td>\n",
       "      <td>booking</td>\n",
       "      <td>True</td>\n",
       "    </tr>\n",
       "    <tr>\n",
       "      <th>3439579</th>\n",
       "      <td>TX_805aefd7</td>\n",
       "      <td>CUST_86452</td>\n",
       "      <td>15491.864931</td>\n",
       "      <td>Singapore</td>\n",
       "      <td>booking</td>\n",
       "      <td>True</td>\n",
       "    </tr>\n",
       "  </tbody>\n",
       "</table>\n",
       "</div>"
      ],
      "text/plain": [
       "        transaction_id customer_id    amount_usd    country vendor_type  \\\n",
       "2931774    TX_33de8275  CUST_84744  15781.540993     Mexico     booking   \n",
       "1730096    TX_e4a38519  CUST_61661  15757.587128     Mexico     booking   \n",
       "1953489    TX_14d04f46  CUST_91532  15720.078490     Mexico     booking   \n",
       "208083     TX_8a13a5a6  CUST_58337  15693.767745  Singapore     booking   \n",
       "3402759    TX_33105936  CUST_52188  15682.188327  Singapore     booking   \n",
       "4116687    TX_52d49192  CUST_34751  15668.539655  Singapore     booking   \n",
       "3482562    TX_3e010d82  CUST_62056  15641.360167     Mexico     booking   \n",
       "3165906    TX_ef261221  CUST_54779  15640.579675  Singapore     booking   \n",
       "2184804    TX_684fe19a  CUST_56683  15634.910798     Mexico     booking   \n",
       "1800272    TX_14459b5d  CUST_57338  15609.087610     Mexico     booking   \n",
       "2425581    TX_426031f4  CUST_56674  15586.171669     Mexico     booking   \n",
       "2920898    TX_2b36b1f1  CUST_23199  15577.448293     Mexico     booking   \n",
       "1654539    TX_c8418468  CUST_35903  15551.611216     Mexico     booking   \n",
       "1464685    TX_388e76fd  CUST_47146  15551.500766     Mexico     booking   \n",
       "3205043    TX_c6dfc521  CUST_47483  15551.463842     Mexico     booking   \n",
       "3159214    TX_5ad5fd0d  CUST_78020  15544.818154     Mexico     booking   \n",
       "1687463    TX_9269dd17  CUST_89677  15524.332197     Mexico     booking   \n",
       "1454790    TX_3b865ccb  CUST_27238  15519.227056  Singapore     booking   \n",
       "2752232    TX_99d89f2a  CUST_23963  15511.765541  Singapore     booking   \n",
       "3439579    TX_805aefd7  CUST_86452  15491.864931  Singapore     booking   \n",
       "\n",
       "         is_fraud  \n",
       "2931774      True  \n",
       "1730096      True  \n",
       "1953489      True  \n",
       "208083       True  \n",
       "3402759      True  \n",
       "4116687      True  \n",
       "3482562      True  \n",
       "3165906      True  \n",
       "2184804      True  \n",
       "1800272      True  \n",
       "2425581      True  \n",
       "2920898      True  \n",
       "1654539      True  \n",
       "1464685      True  \n",
       "3205043      True  \n",
       "3159214      True  \n",
       "1687463      True  \n",
       "1454790      True  \n",
       "2752232      True  \n",
       "3439579      True  "
      ]
     },
     "execution_count": 105,
     "metadata": {},
     "output_type": "execute_result"
    }
   ],
   "source": [
    "top_tx = (\n",
    "    transaction_fraud_data_processed\n",
    "    .sort_values('amount_usd', ascending=False)\n",
    "    .head(20)\n",
    "    [['transaction_id','customer_id','amount_usd','country','vendor_type','is_fraud']]\n",
    ")\n",
    "top_tx"
   ]
  },
  {
   "cell_type": "markdown",
   "id": "68efff24",
   "metadata": {},
   "source": [
    "Интересно заметить, что всег транзакции фродовые"
   ]
  },
  {
   "cell_type": "markdown",
   "id": "d5d0c27a",
   "metadata": {},
   "source": [
    "Посмотрим на распределение сумм в целом"
   ]
  },
  {
   "cell_type": "code",
   "execution_count": 109,
   "id": "217b1e58",
   "metadata": {},
   "outputs": [
    {
     "data": {
      "image/png": "[encoded data removed]",
      "text/plain": [
       "<Figure size 800x400 with 1 Axes>"
      ]
     },
     "metadata": {},
     "output_type": "display_data"
    }
   ],
   "source": [
    "plt.figure(figsize=(8,4))\n",
    "sns.histplot(\n",
    "    data=transaction_fraud_data_processed,\n",
    "    x='amount_usd',\n",
    "    bins=100,\n",
    "    log_scale=(True, False),  # X-лог-шкала\n",
    "    kde=False\n",
    ")\n",
    "plt.title('Распределение transaction amount (USD, лог-шкала)')\n",
    "plt.xlabel('Amount USD (log scale)')\n",
    "plt.ylabel('Кол-во транзакций')\n",
    "plt.tight_layout()\n",
    "plt.show()"
   ]
  },
  {
   "cell_type": "code",
   "execution_count": 110,
   "id": "acbbe4a2",
   "metadata": {},
   "outputs": [
    {
     "data": {
      "image/png": "[encoded data removed]",
      "text/plain": [
       "<Figure size 800x400 with 1 Axes>"
      ]
     },
     "metadata": {},
     "output_type": "display_data"
    }
   ],
   "source": [
    "plt.figure(figsize=(8,4))\n",
    "sns.histplot(\n",
    "    data=transaction_fraud_data_processed[transaction_fraud_data_processed['is_fraud'] == 1],\n",
    "    x='amount_usd',\n",
    "    bins=100,\n",
    "    log_scale=(True, False),  # X-лог-шкала\n",
    "    kde=False\n",
    ")\n",
    "plt.title('Фродовое распределение transaction amount (USD, лог-шкала)')\n",
    "plt.xlabel('Amount USD (log scale)')\n",
    "plt.ylabel('Кол-во транзакций')\n",
    "plt.tight_layout()\n",
    "plt.show()"
   ]
  },
  {
   "cell_type": "code",
   "execution_count": 111,
   "id": "b17cc71b",
   "metadata": {},
   "outputs": [],
   "source": [
    "def plot_amount_boxplots(df, amount_col='amount_usd', log_scale=True, figsize=(10, 6)):\n",
    "    \"\"\"\n",
    "    Plot side-by-side boxplots of transaction amounts:\n",
    "      - Left: all transactions\n",
    "      - Right: only fraud transactions\n",
    "\n",
    "    Parameters\n",
    "    ----------\n",
    "    df : pd.DataFrame\n",
    "        DataFrame containing at least:\n",
    "          - amount_col (numeric)\n",
    "          - 'is_fraud' (boolean or 0/1)\n",
    "    amount_col : str, default='amount_usd'\n",
    "        Column name for the transaction amount.\n",
    "    log_scale : bool, default=True\n",
    "        If True, set the y-axis to log scale.\n",
    "    figsize : tuple, default=(10,6)\n",
    "        Figure size (width, height).\n",
    "    \"\"\"\n",
    "    # Split data\n",
    "    all_amt   = df[amount_col]\n",
    "    fraud_amt = df.loc[df['is_fraud'] == 1, amount_col]\n",
    "\n",
    "    # Prepare subplots\n",
    "    fig, axes = plt.subplots(1, 2, figsize=figsize, sharey=True)\n",
    "\n",
    "    # Left: all transactions\n",
    "    sns.boxplot(\n",
    "        y=all_amt,\n",
    "        ax=axes[0],\n",
    "        showfliers=False  # hide extreme outliers for clarity\n",
    "    )\n",
    "    axes[0].set_title('All Transactions')\n",
    "    axes[0].set_xlabel('')\n",
    "    axes[0].set_ylabel(amount_col.replace('_', ' ').title())\n",
    "\n",
    "    # Right: fraud transactions\n",
    "    sns.boxplot(\n",
    "        y=fraud_amt,\n",
    "        ax=axes[1],\n",
    "        showfliers=False\n",
    "    )\n",
    "    axes[1].set_title('Fraud Transactions')\n",
    "    axes[1].set_xlabel('')\n",
    "    axes[1].set_ylabel('')\n",
    "\n",
    "    # Apply log scale if requested\n",
    "    if log_scale:\n",
    "        axes[0].set_yscale('log')\n",
    "        axes[1].set_yscale('log')\n",
    "        # optional: adjust ticks\n",
    "        for ax in axes:\n",
    "            ax.yaxis.set_major_formatter(plt.FuncFormatter(lambda y, _:\n",
    "                f\"{int(y):,}\" if y >= 1 else f\"{y:.2f}\"\n",
    "            ))\n",
    "\n",
    "    # Layout tweaks\n",
    "    plt.suptitle('Transaction Amount Distribution', fontsize=16)\n",
    "    plt.tight_layout(rect=[0, 0.03, 1, 0.95])\n",
    "    plt.show()"
   ]
  },
  {
   "cell_type": "code",
   "execution_count": 112,
   "id": "21fce4bb",
   "metadata": {},
   "outputs": [
    {
     "data": {
      "image/png": "[encoded data removed]",
      "text/plain": [
       "<Figure size 1000x600 with 2 Axes>"
      ]
     },
     "metadata": {},
     "output_type": "display_data"
    }
   ],
   "source": [
    "plot_amount_boxplots(transaction_fraud_data_processed)"
   ]
  },
  {
   "cell_type": "markdown",
   "id": "96f0585e",
   "metadata": {},
   "source": [
    "Гистограммы и бокс плоты визуализируют разницу в распределении сумм транзакций.\n",
    "\n",
    "Мы видим, что для фродовых транзакций характерны экстримальные значения.\n",
    "<br>В том время как транзакции в целом обычно имеют размер от сотни до тысчи долларов"
   ]
  },
  {
   "cell_type": "markdown",
   "id": "b67489c7",
   "metadata": {},
   "source": [
    "## Предлагаемые гипотезы"
   ]
  }
 ],
 "metadata": {
  "kernelspec": {
   "display_name": ".venv",
   "language": "python",
   "name": "python3"
  },
  "language_info": {
   "codemirror_mode": {
    "name": "ipython",
    "version": 3
   },
   "file_extension": ".py",
   "mimetype": "text/x-python",
   "name": "python",
   "nbconvert_exporter": "python",
   "pygments_lexer": "ipython3",
   "version": "3.13.2"
  }
 },
 "nbformat": 4,
 "nbformat_minor": 5
}
